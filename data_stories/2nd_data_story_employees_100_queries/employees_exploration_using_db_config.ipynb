{
 "cells": [
  {
   "cell_type": "markdown",
   "id": "04fbe2b9",
   "metadata": {},
   "source": [
    "# Employees Data Exploration (MySQL + db_config.json)"
   ]
  },
  {
   "cell_type": "code",
   "execution_count": null,
   "id": "64f1c56a",
   "metadata": {},
   "outputs": [],
   "source": [
    "import json\n",
    "import mysql.connector\n",
    "import pandas as pd\n",
    "import matplotlib.pyplot as plt"
   ]
  },
  {
   "cell_type": "code",
   "execution_count": null,
   "id": "78bf47c0",
   "metadata": {},
   "outputs": [],
   "source": [
    "# Load config\n",
    "with open('db_config.json') as f:\n",
    "    config = json.load(f)\n",
    "\n",
    "conn = mysql.connector.connect(\n",
    "    host=config['host'],\n",
    "    user=config['user'],\n",
    "    password=config['password'],\n",
    "    database=config['database']\n",
    ")\n",
    "\n",
    "df = pd.read_sql('SELECT * FROM employees;', conn)\n",
    "conn.close()\n",
    "\n",
    "df.head()"
   ]
  },
  {
   "cell_type": "markdown",
   "id": "403608e2",
   "metadata": {},
   "source": [
    "## Basic stats"
   ]
  },
  {
   "cell_type": "code",
   "execution_count": null,
   "id": "a6dfc975",
   "metadata": {},
   "outputs": [],
   "source": [
    "df[['salary','age']].describe()"
   ]
  },
  {
   "cell_type": "markdown",
   "id": "f56e5a08",
   "metadata": {},
   "source": [
    "## Counts"
   ]
  },
  {
   "cell_type": "code",
   "execution_count": null,
   "id": "31f0b5cf",
   "metadata": {},
   "outputs": [],
   "source": [
    "df['department'].value_counts()"
   ]
  },
  {
   "cell_type": "code",
   "execution_count": null,
   "id": "e7643b01",
   "metadata": {},
   "outputs": [],
   "source": [
    "df['country'].value_counts()"
   ]
  },
  {
   "cell_type": "code",
   "execution_count": null,
   "id": "d7cae1f6",
   "metadata": {},
   "outputs": [],
   "source": [
    "df['gender'].value_counts()"
   ]
  },
  {
   "cell_type": "markdown",
   "id": "79c90eb4",
   "metadata": {},
   "source": [
    "## Aggregations"
   ]
  },
  {
   "cell_type": "code",
   "execution_count": null,
   "id": "b7005516",
   "metadata": {},
   "outputs": [],
   "source": [
    "dept_agg = df.groupby('department').agg(\n",
    "    headcount=('emp_id','count'),\n",
    "    avg_salary=('salary','mean'),\n",
    "    avg_age=('age','mean')\n",
    ").reset_index()\n",
    "dept_agg.sort_values('headcount', ascending=False)"
   ]
  },
  {
   "cell_type": "code",
   "execution_count": null,
   "id": "039d28b4",
   "metadata": {},
   "outputs": [],
   "source": [
    "country_agg = df.groupby('country').agg(\n",
    "    headcount=('emp_id','count'),\n",
    "    avg_salary=('salary','mean')\n",
    ").reset_index()\n",
    "country_agg.sort_values('headcount', ascending=False)"
   ]
  },
  {
   "cell_type": "markdown",
   "id": "bfd90317",
   "metadata": {},
   "source": [
    "## Plots"
   ]
  },
  {
   "cell_type": "code",
   "execution_count": null,
   "id": "6fea8597",
   "metadata": {},
   "outputs": [],
   "source": [
    "dept_agg.sort_values('headcount', ascending=False).plot(\n",
    "    x='department', y='headcount', kind='bar', legend=False, title='Headcount by Department')\n",
    "plt.tight_layout()"
   ]
  },
  {
   "cell_type": "code",
   "execution_count": null,
   "id": "a97046a0",
   "metadata": {},
   "outputs": [],
   "source": [
    "dept_agg.sort_values('avg_salary', ascending=False).plot(\n",
    "    x='department', y='avg_salary', kind='bar', legend=False, title='Average Salary by Department')\n",
    "plt.tight_layout()"
   ]
  },
  {
   "cell_type": "code",
   "execution_count": null,
   "id": "1ddaf3bb",
   "metadata": {},
   "outputs": [],
   "source": [
    "country_agg.sort_values('headcount', ascending=False).plot(\n",
    "    x='country', y='headcount', kind='bar', legend=False, title='Headcount by Country')\n",
    "plt.tight_layout()"
   ]
  },
  {
   "cell_type": "code",
   "execution_count": null,
   "id": "b3f12778",
   "metadata": {},
   "outputs": [],
   "source": [
    "df['salary'].plot(kind='hist', bins=10, title='Salary Distribution')\n",
    "plt.tight_layout()"
   ]
  },
  {
   "cell_type": "code",
   "execution_count": null,
   "id": "431ad18b",
   "metadata": {},
   "outputs": [],
   "source": [
    "df.plot(x='age', y='salary', kind='scatter', title='Age vs Salary')\n",
    "plt.tight_layout()"
   ]
  }
 ],
 "metadata": {},
 "nbformat": 4,
 "nbformat_minor": 5
}
