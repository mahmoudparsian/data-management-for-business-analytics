{
 "cells": [
  {
   "cell_type": "markdown",
   "id": "2e815968",
   "metadata": {},
   "source": [
    "# Data Exploration & Visualization — Extended Payments + Shipments Dataset"
   ]
  },
  {
   "cell_type": "markdown",
   "id": "2d06b200",
   "metadata": {},
   "source": [
    "## Connect to MySQL"
   ]
  },
  {
   "cell_type": "code",
   "execution_count": null,
   "id": "72dce16a",
   "metadata": {},
   "outputs": [],
   "source": [
    "import mysql.connector as mc\n",
    "import pandas as pd\n",
    "import matplotlib.pyplot as plt\n",
    "\n",
    "conn = mc.connect(\n",
    "    host=\"localhost\",\n",
    "    user=\"root\",\n",
    "    password=\"YOUR_PASSWORD\",\n",
    "    database=\"retail_demo_ext2\"\n",
    ")"
   ]
  },
  {
   "cell_type": "markdown",
   "id": "b1080fbd",
   "metadata": {},
   "source": [
    "## Load Data"
   ]
  },
  {
   "cell_type": "code",
   "execution_count": null,
   "id": "22a4d143",
   "metadata": {},
   "outputs": [],
   "source": [
    "customers = pd.read_sql(\"SELECT * FROM customers\", conn)\n",
    "products  = pd.read_sql(\"SELECT * FROM products\", conn)\n",
    "orders    = pd.read_sql(\"SELECT * FROM orders\", conn)\n",
    "payments  = pd.read_sql(\"SELECT * FROM payments\", conn)\n",
    "shipments = pd.read_sql(\"SELECT * FROM shipments\", conn)\n",
    "\n",
    "query = \"\"\"\n",
    "SELECT o.order_id, o.paid_price, o.order_date,\n",
    "       c.customer_id, c.name, c.country,\n",
    "       p.product_id, p.product_name, p.category,\n",
    "       pay.method AS payment_method,\n",
    "       s.status AS shipment_status, s.carrier\n",
    "FROM orders o\n",
    "JOIN customers c ON o.customer_id=c.customer_id\n",
    "JOIN products p ON o.product_id=p.product_id\n",
    "LEFT JOIN payments pay ON o.order_id=pay.order_id\n",
    "LEFT JOIN shipments s ON o.order_id=s.order_id;\n",
    "\"\"\"\n",
    "orders_full = pd.read_sql(query, conn)\n",
    "orders_full.head()"
   ]
  },
  {
   "cell_type": "markdown",
   "id": "e9617bed",
   "metadata": {},
   "source": [
    "## Orders per Customer"
   ]
  },
  {
   "cell_type": "code",
   "execution_count": null,
   "id": "7571b29c",
   "metadata": {},
   "outputs": [],
   "source": [
    "orders.groupby('customer_id')['order_id'].count().plot(kind='bar'); plt.title('Orders per Customer'); plt.show()"
   ]
  },
  {
   "cell_type": "markdown",
   "id": "b906bfb8",
   "metadata": {},
   "source": [
    "## Revenue per Customer"
   ]
  },
  {
   "cell_type": "code",
   "execution_count": null,
   "id": "c71983cd",
   "metadata": {},
   "outputs": [],
   "source": [
    "orders_full.groupby('name')['paid_price'].sum().sort_values(ascending=False).plot(kind='bar'); plt.title('Revenue per Customer'); plt.show()"
   ]
  },
  {
   "cell_type": "markdown",
   "id": "ba9d1d23",
   "metadata": {},
   "source": [
    "## Orders by Country"
   ]
  },
  {
   "cell_type": "code",
   "execution_count": null,
   "id": "c7668854",
   "metadata": {},
   "outputs": [],
   "source": [
    "orders_full.groupby('country')['order_id'].count().plot(kind='bar'); plt.title('Orders by Country'); plt.show()"
   ]
  },
  {
   "cell_type": "markdown",
   "id": "2c04379f",
   "metadata": {},
   "source": [
    "## Revenue by Category"
   ]
  },
  {
   "cell_type": "code",
   "execution_count": null,
   "id": "02916d6f",
   "metadata": {},
   "outputs": [],
   "source": [
    "orders_full.groupby('category')['paid_price'].sum().plot(kind='bar'); plt.title('Revenue by Category'); plt.show()"
   ]
  },
  {
   "cell_type": "markdown",
   "id": "ce4a9181",
   "metadata": {},
   "source": [
    "## Orders by Payment Method"
   ]
  },
  {
   "cell_type": "code",
   "execution_count": null,
   "id": "1143f80a",
   "metadata": {},
   "outputs": [],
   "source": [
    "payments.groupby('method')['amount'].sum().plot(kind='bar'); plt.title('Orders by Payment Method'); plt.show()"
   ]
  },
  {
   "cell_type": "markdown",
   "id": "26917f80",
   "metadata": {},
   "source": [
    "## Shipments by Status"
   ]
  },
  {
   "cell_type": "code",
   "execution_count": null,
   "id": "3d28f226",
   "metadata": {},
   "outputs": [],
   "source": [
    "shipments.groupby('status')['shipment_id'].count().plot(kind='bar'); plt.title('Shipments by Status'); plt.show()"
   ]
  },
  {
   "cell_type": "markdown",
   "id": "609c92c8",
   "metadata": {},
   "source": [
    "## Shipments by Carrier"
   ]
  },
  {
   "cell_type": "code",
   "execution_count": null,
   "id": "644a27f8",
   "metadata": {},
   "outputs": [],
   "source": [
    "shipments.groupby('carrier')['shipment_id'].count().plot(kind='bar'); plt.title('Shipments by Carrier'); plt.show()"
   ]
  },
  {
   "cell_type": "markdown",
   "id": "43e584e3",
   "metadata": {},
   "source": [
    "## Average Paid Price by Category"
   ]
  },
  {
   "cell_type": "code",
   "execution_count": null,
   "id": "a2acd134",
   "metadata": {},
   "outputs": [],
   "source": [
    "orders_full.groupby('category')['paid_price'].mean().plot(kind='bar'); plt.title('Average Paid Price by Category'); plt.show()"
   ]
  },
  {
   "cell_type": "markdown",
   "id": "dba1de39",
   "metadata": {},
   "source": [
    "## Top 15 Products by Revenue"
   ]
  },
  {
   "cell_type": "code",
   "execution_count": null,
   "id": "a06ce4b0",
   "metadata": {},
   "outputs": [],
   "source": [
    "orders_full.groupby('product_name')['paid_price'].sum().sort_values(ascending=False).head(15).plot(kind='bar'); plt.title('Top 15 Products by Revenue'); plt.show()"
   ]
  },
  {
   "cell_type": "markdown",
   "id": "d7ddf185",
   "metadata": {},
   "source": [
    "## Paid Price Distribution"
   ]
  },
  {
   "cell_type": "code",
   "execution_count": null,
   "id": "82a0e148",
   "metadata": {},
   "outputs": [],
   "source": [
    "orders['paid_price'].plot(kind='hist', bins=30); plt.title('Paid Price Distribution'); plt.xlabel('Price'); plt.show()"
   ]
  },
  {
   "cell_type": "markdown",
   "id": "7f15e1d0",
   "metadata": {},
   "source": [
    "## Close Connection"
   ]
  },
  {
   "cell_type": "code",
   "execution_count": null,
   "id": "c76e1d16",
   "metadata": {},
   "outputs": [],
   "source": [
    "conn.close()"
   ]
  }
 ],
 "metadata": {},
 "nbformat": 4,
 "nbformat_minor": 5
}
