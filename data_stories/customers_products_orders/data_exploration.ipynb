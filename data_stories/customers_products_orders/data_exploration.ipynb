{
 "cells": [
  {
   "cell_type": "markdown",
   "id": "86c56cf4",
   "metadata": {},
   "source": [
    "# Data Exploration & Visualization (Customer-Orders Model)\n",
    "\n",
    "This Jupyter Notebook connects to the MySQL `retail_demo` database, retrieves data from the **customers**, **products**, and **orders** tables, and performs exploratory data analysis with **9 visualizations**.\n",
    "\n",
    "**Requirements:**  \n",
    "- mysql-connector-python  \n",
    "- pandas  \n",
    "- matplotlib  \n",
    "\n",
    "Install dependencies (if needed):  \n",
    "```bash\n",
    "pip install mysql-connector-python pandas matplotlib\n",
    "```\n"
   ]
  },
  {
   "cell_type": "code",
   "execution_count": null,
   "id": "a3cfb644",
   "metadata": {},
   "outputs": [],
   "source": [
    "import mysql.connector as mc\n",
    "import pandas as pd\n",
    "import matplotlib.pyplot as plt\n",
    "\n",
    "# Connect to MySQL (edit password if needed)\n",
    "conn = mc.connect(\n",
    "    host=\"localhost\",\n",
    "    user=\"root\",\n",
    "    password=\"YOUR_PASSWORD\",\n",
    "    database=\"retail_demo\"\n",
    ")\n",
    "\n",
    "# Load tables\n",
    "customers = pd.read_sql(\"SELECT * FROM customers\", conn)\n",
    "products  = pd.read_sql(\"SELECT * FROM products\", conn)\n",
    "orders    = pd.read_sql(\"SELECT * FROM orders\", conn)\n",
    "\n",
    "orders_full = pd.read_sql(\n",
    "    \"\"\"\n",
    "    SELECT o.order_id, o.paid_price,\n",
    "           c.customer_id, c.name, c.country,\n",
    "           p.product_id, p.product_name, p.category, p.color\n",
    "    FROM orders o\n",
    "    JOIN customers c ON o.customer_id=c.customer_id\n",
    "    JOIN products  p ON o.product_id=p.product_id\n",
    "    \"\"\", conn\n",
    ")\n",
    "\n",
    "customers.head(), products.head(), orders.head()"
   ]
  },
  {
   "cell_type": "markdown",
   "id": "be625b79",
   "metadata": {},
   "source": [
    "## Visualizations\n",
    "We generate **9 visuals** to explore orders, customers, and products."
   ]
  },
  {
   "cell_type": "markdown",
   "id": "224f58c9",
   "metadata": {},
   "source": [
    "### Orders per Customer"
   ]
  },
  {
   "cell_type": "code",
   "execution_count": null,
   "id": "16e74d99",
   "metadata": {},
   "outputs": [],
   "source": [
    "orders.groupby('customer_id')['order_id'].count().sort_values(ascending=False).plot(kind='bar', figsize=(10,4)); plt.title('Orders per Customer'); plt.show()"
   ]
  },
  {
   "cell_type": "markdown",
   "id": "50003fdb",
   "metadata": {},
   "source": [
    "### Orders by Country"
   ]
  },
  {
   "cell_type": "code",
   "execution_count": null,
   "id": "d125a8ab",
   "metadata": {},
   "outputs": [],
   "source": [
    "orders_full.groupby('country')['order_id'].count().sort_values(ascending=False).plot(kind='bar', figsize=(8,4)); plt.title('Orders by Country'); plt.show()"
   ]
  },
  {
   "cell_type": "markdown",
   "id": "0397a5e1",
   "metadata": {},
   "source": [
    "### Revenue by Category"
   ]
  },
  {
   "cell_type": "code",
   "execution_count": null,
   "id": "dfb5e34c",
   "metadata": {},
   "outputs": [],
   "source": [
    "orders_full.groupby('category')['paid_price'].sum().sort_values(ascending=False).plot(kind='bar', figsize=(8,4)); plt.title('Revenue by Category'); plt.show()"
   ]
  },
  {
   "cell_type": "markdown",
   "id": "8f67682d",
   "metadata": {},
   "source": [
    "### Top Colors by Orders"
   ]
  },
  {
   "cell_type": "code",
   "execution_count": null,
   "id": "ad8767d0",
   "metadata": {},
   "outputs": [],
   "source": [
    "orders_full.groupby('color')['order_id'].count().sort_values(ascending=False).head(15).plot(kind='bar', figsize=(10,4)); plt.title('Top Colors by Orders'); plt.show()"
   ]
  },
  {
   "cell_type": "markdown",
   "id": "af6572b3",
   "metadata": {},
   "source": [
    "### Top 15 Products by Orders"
   ]
  },
  {
   "cell_type": "code",
   "execution_count": null,
   "id": "289dd2ea",
   "metadata": {},
   "outputs": [],
   "source": [
    "orders_full.groupby('product_name')['order_id'].count().sort_values(ascending=False).head(15).plot(kind='bar', figsize=(12,4)); plt.title('Top 15 Products by Orders'); plt.show()"
   ]
  },
  {
   "cell_type": "markdown",
   "id": "da691506",
   "metadata": {},
   "source": [
    "### Total Spend per Customer"
   ]
  },
  {
   "cell_type": "code",
   "execution_count": null,
   "id": "80b9a828",
   "metadata": {},
   "outputs": [],
   "source": [
    "orders_full.groupby('name')['paid_price'].sum().sort_values(ascending=False).plot(kind='bar', figsize=(12,4)); plt.title('Total Spend per Customer'); plt.show()"
   ]
  },
  {
   "cell_type": "markdown",
   "id": "533ffdb9",
   "metadata": {},
   "source": [
    "### Average Order Value by Category"
   ]
  },
  {
   "cell_type": "code",
   "execution_count": null,
   "id": "49e02fc1",
   "metadata": {},
   "outputs": [],
   "source": [
    "orders_full.groupby('category')['paid_price'].mean().sort_values(ascending=False).plot(kind='bar', figsize=(8,4)); plt.title('Average Order Value by Category'); plt.show()"
   ]
  },
  {
   "cell_type": "markdown",
   "id": "7344e438",
   "metadata": {},
   "source": [
    "### Revenue by Category-Color (Top 20)"
   ]
  },
  {
   "cell_type": "code",
   "execution_count": null,
   "id": "ebe0fb2a",
   "metadata": {},
   "outputs": [],
   "source": [
    "orders_full.groupby(['category','color'])['paid_price'].sum().sort_values(ascending=False).head(20).plot(kind='bar', figsize=(12,4)); plt.title('Revenue by Category-Color (Top 20)'); plt.show()"
   ]
  },
  {
   "cell_type": "markdown",
   "id": "b3f10cf4",
   "metadata": {},
   "source": [
    "### Paid Price Distribution"
   ]
  },
  {
   "cell_type": "code",
   "execution_count": null,
   "id": "21b1dffd",
   "metadata": {},
   "outputs": [],
   "source": [
    "orders['paid_price'].plot(kind='hist', bins=30, figsize=(8,4)); plt.title('Paid Price Distribution'); plt.xlabel('Paid Price'); plt.show()"
   ]
  },
  {
   "cell_type": "markdown",
   "id": "a59f158f",
   "metadata": {},
   "source": [
    "## Close Connection\n",
    "Always close your database connection when finished."
   ]
  },
  {
   "cell_type": "code",
   "execution_count": null,
   "id": "2e7a1aed",
   "metadata": {},
   "outputs": [],
   "source": [
    "conn.close()"
   ]
  }
 ],
 "metadata": {},
 "nbformat": 4,
 "nbformat_minor": 5
}
