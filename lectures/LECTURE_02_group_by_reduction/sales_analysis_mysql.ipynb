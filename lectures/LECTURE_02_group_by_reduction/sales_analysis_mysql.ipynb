{
 "cells": [
  {
   "cell_type": "markdown",
   "id": "83232391",
   "metadata": {},
   "source": [
    "# Sales Analysis with MySQL + Python (Jupyter Notebook)\n",
    "\n",
    "This notebook demonstrates how to connect to a MySQL database, read the `sales` table, run exploratory analysis, perform GROUP BY operations, and visualize results."
   ]
  },
  {
   "cell_type": "code",
   "execution_count": null,
   "id": "aaab767c",
   "metadata": {},
   "outputs": [],
   "source": [
    "!pip install pandas matplotlib mysql-connector-python"
   ]
  },
  {
   "cell_type": "code",
   "execution_count": null,
   "id": "7ca820d7",
   "metadata": {},
   "outputs": [],
   "source": [
    "\n",
    "import pandas as pd\n",
    "import matplotlib.pyplot as plt\n",
    "import mysql.connector\n"
   ]
  },
  {
   "cell_type": "markdown",
   "id": "1956589d",
   "metadata": {},
   "source": [
    "## Step 1: Connect to MySQL and Load Data"
   ]
  },
  {
   "cell_type": "code",
   "execution_count": null,
   "id": "b9b82fd7",
   "metadata": {},
   "outputs": [],
   "source": [
    "\n",
    "# Update with your own credentials and database\n",
    "conn = mysql.connector.connect(\n",
    "    host=\"localhost\",      # change if needed\n",
    "    user=\"root\",           # your MySQL username\n",
    "    password=\"yourpassword\",  # your MySQL password\n",
    "    database=\"testdb\"      # your database name\n",
    ")\n",
    "\n",
    "query = \"SELECT * FROM sales\"\n",
    "df = pd.read_sql(query, conn)\n",
    "conn.close()\n",
    "\n",
    "df.head()\n"
   ]
  },
  {
   "cell_type": "markdown",
   "id": "73618aa3",
   "metadata": {},
   "source": [
    "## Step 2: Exploratory Analysis"
   ]
  },
  {
   "cell_type": "code",
   "execution_count": null,
   "id": "eaf256f8",
   "metadata": {},
   "outputs": [],
   "source": [
    "\n",
    "print(\"=== Info ===\")\n",
    "print(df.info())\n",
    "\n",
    "print(\"\\n=== Summary Statistics ===\")\n",
    "print(df.describe())\n",
    "\n",
    "df.head()\n"
   ]
  },
  {
   "cell_type": "markdown",
   "id": "3bfa3f43",
   "metadata": {},
   "source": [
    "## Step 3: Group By Operations"
   ]
  },
  {
   "cell_type": "code",
   "execution_count": null,
   "id": "ee70e8be",
   "metadata": {},
   "outputs": [],
   "source": [
    "\n",
    "print(\"=== Total quantity per region ===\")\n",
    "display(df.groupby(\"region\")[\"quantity\"].sum())\n",
    "\n",
    "print(\"\\n=== Average price per product ===\")\n",
    "display(df.groupby(\"product\")[\"price\"].mean())\n",
    "\n",
    "print(\"\\n=== Total revenue per region ===\")\n",
    "df[\"revenue\"] = df[\"quantity\"] * df[\"price\"]\n",
    "display(df.groupby(\"region\")[\"revenue\"].sum())\n",
    "\n",
    "print(\"\\n=== Total revenue per region & product ===\")\n",
    "display(df.groupby([\"region\", \"product\"])[\"revenue\"].sum())\n"
   ]
  },
  {
   "cell_type": "markdown",
   "id": "262bc24f",
   "metadata": {},
   "source": [
    "## Step 4: Visualizations"
   ]
  },
  {
   "cell_type": "code",
   "execution_count": null,
   "id": "12669ba3",
   "metadata": {},
   "outputs": [],
   "source": [
    "\n",
    "# Quantity per region\n",
    "df.groupby(\"region\")[\"quantity\"].sum().plot(kind=\"bar\", title=\"Total Quantity per Region\")\n",
    "plt.ylabel(\"Quantity\")\n",
    "plt.show()\n",
    "\n",
    "# Average price per product\n",
    "df.groupby(\"product\")[\"price\"].mean().plot(kind=\"bar\", color=\"orange\", title=\"Average Price per Product\")\n",
    "plt.ylabel(\"Average Price\")\n",
    "plt.show()\n",
    "\n",
    "# Revenue per region\n",
    "df.groupby(\"region\")[\"revenue\"].sum().plot(kind=\"bar\", color=\"green\", title=\"Total Revenue per Region\")\n",
    "plt.ylabel(\"Revenue\")\n",
    "plt.show()\n"
   ]
  }
 ],
 "metadata": {},
 "nbformat": 4,
 "nbformat_minor": 5
}