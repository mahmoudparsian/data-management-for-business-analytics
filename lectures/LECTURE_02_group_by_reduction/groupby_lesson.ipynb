{
 "cells": [
  {
   "cell_type": "markdown",
   "id": "3185edf8",
   "metadata": {},
   "source": [
    "# Teaching GROUP BY in SQL/MySQL\n",
    "\n",
    "This Jupyter Notebook demonstrates the GROUP BY concept using a simple `sales` table with 12 rows."
   ]
  },
  {
   "cell_type": "code",
   "execution_count": null,
   "id": "f8d63baa",
   "metadata": {},
   "outputs": [],
   "source": [
    "\n",
    "import sqlite3\n",
    "import pandas as pd\n",
    "\n",
    "# Create in-memory SQLite DB\n",
    "conn = sqlite3.connect(\":memory:\")\n",
    "cursor = conn.cursor()\n"
   ]
  },
  {
   "cell_type": "code",
   "execution_count": null,
   "id": "e1c9e308",
   "metadata": {},
   "outputs": [],
   "source": [
    "\n",
    "cursor.execute(\"\"\"\n",
    "CREATE TABLE sales (\n",
    "    id INT PRIMARY KEY,\n",
    "    region VARCHAR(20),\n",
    "    product VARCHAR(20),\n",
    "    quantity INT,\n",
    "    price DECIMAL(8,2)\n",
    ");\n",
    "\"\"\")\n"
   ]
  },
  {
   "cell_type": "code",
   "execution_count": null,
   "id": "83308fac",
   "metadata": {},
   "outputs": [],
   "source": [
    "\n",
    "cursor.executemany(\"INSERT INTO sales VALUES (?, ?, ?, ?, ?)\", [\n",
    "(1, 'East', 'Laptop', 3, 1200),\n",
    "(2, 'East', 'Phone', 5, 800),\n",
    "(3, 'East', 'Tablet', 2, 600),\n",
    "(4, 'West', 'Laptop', 4, 1150),\n",
    "(5, 'West', 'Phone', 6, 750),\n",
    "(6, 'West', 'Tablet', 3, 620),\n",
    "(7, 'North', 'Laptop', 2, 1250),\n",
    "(8, 'North', 'Phone', 7, 820),\n",
    "(9, 'North', 'Tablet', 4, 610),\n",
    "(10, 'East', 'Laptop', 1, 1180),\n",
    "(11, 'West', 'Phone', 8, 770),\n",
    "(12, 'North', 'Tablet', 5, 605)\n",
    "])\n",
    "conn.commit()\n"
   ]
  },
  {
   "cell_type": "code",
   "execution_count": null,
   "id": "6a02f016",
   "metadata": {},
   "outputs": [],
   "source": [
    "\n",
    "pd.read_sql(\"SELECT * FROM sales\", conn)\n"
   ]
  },
  {
   "cell_type": "markdown",
   "id": "6b0d9ef7",
   "metadata": {},
   "source": [
    "### Q1. Find total quantity sold per region.\n",
    "```sql\n",
    "SELECT region, SUM(quantity) AS total_quantity FROM sales GROUP BY region;\n",
    "```"
   ]
  },
  {
   "cell_type": "code",
   "execution_count": null,
   "id": "d49b6cc9",
   "metadata": {},
   "outputs": [],
   "source": [
    "pd.read_sql(\"\"\"SELECT region, SUM(quantity) AS total_quantity FROM sales GROUP BY region;\"\"\", conn)"
   ]
  },
  {
   "cell_type": "markdown",
   "id": "f037c256",
   "metadata": {},
   "source": [
    "### Q2. Find average price per product.\n",
    "```sql\n",
    "SELECT product, AVG(price) AS avg_price FROM sales GROUP BY product;\n",
    "```"
   ]
  },
  {
   "cell_type": "code",
   "execution_count": null,
   "id": "47eef22c",
   "metadata": {},
   "outputs": [],
   "source": [
    "pd.read_sql(\"\"\"SELECT product, AVG(price) AS avg_price FROM sales GROUP BY product;\"\"\", conn)"
   ]
  },
  {
   "cell_type": "markdown",
   "id": "11fea8b7",
   "metadata": {},
   "source": [
    "### Q3. Find total revenue (quantity × price) per region.\n",
    "```sql\n",
    "SELECT region, SUM(quantity*price) AS total_revenue FROM sales GROUP BY region;\n",
    "```"
   ]
  },
  {
   "cell_type": "code",
   "execution_count": null,
   "id": "7f370de6",
   "metadata": {},
   "outputs": [],
   "source": [
    "pd.read_sql(\"\"\"SELECT region, SUM(quantity*price) AS total_revenue FROM sales GROUP BY region;\"\"\", conn)"
   ]
  },
  {
   "cell_type": "markdown",
   "id": "3737ff21",
   "metadata": {},
   "source": [
    "### Q4. Find total quantity sold per region and product.\n",
    "```sql\n",
    "SELECT region, product, SUM(quantity) AS total_quantity FROM sales GROUP BY region, product;\n",
    "```"
   ]
  },
  {
   "cell_type": "code",
   "execution_count": null,
   "id": "3846fcb1",
   "metadata": {},
   "outputs": [],
   "source": [
    "pd.read_sql(\"\"\"SELECT region, product, SUM(quantity) AS total_quantity FROM sales GROUP BY region, product;\"\"\", conn)"
   ]
  },
  {
   "cell_type": "markdown",
   "id": "ac7e1e82",
   "metadata": {},
   "source": [
    "### Q5. Find highest price recorded per product.\n",
    "```sql\n",
    "SELECT product, MAX(price) AS max_price FROM sales GROUP BY product;\n",
    "```"
   ]
  },
  {
   "cell_type": "code",
   "execution_count": null,
   "id": "447a1838",
   "metadata": {},
   "outputs": [],
   "source": [
    "pd.read_sql(\"\"\"SELECT product, MAX(price) AS max_price FROM sales GROUP BY product;\"\"\", conn)"
   ]
  },
  {
   "cell_type": "markdown",
   "id": "2437f221",
   "metadata": {},
   "source": [
    "### Q6. Find average quantity sold per product.\n",
    "```sql\n",
    "SELECT product, AVG(quantity) AS avg_qty FROM sales GROUP BY product;\n",
    "```"
   ]
  },
  {
   "cell_type": "code",
   "execution_count": null,
   "id": "69b88c4b",
   "metadata": {},
   "outputs": [],
   "source": [
    "pd.read_sql(\"\"\"SELECT product, AVG(quantity) AS avg_qty FROM sales GROUP BY product;\"\"\", conn)"
   ]
  },
  {
   "cell_type": "markdown",
   "id": "3911524e",
   "metadata": {},
   "source": [
    "### Q7. Count how many transactions each region has.\n",
    "```sql\n",
    "SELECT region, COUNT(*) AS num_transactions FROM sales GROUP BY region;\n",
    "```"
   ]
  },
  {
   "cell_type": "code",
   "execution_count": null,
   "id": "4e7d0166",
   "metadata": {},
   "outputs": [],
   "source": [
    "pd.read_sql(\"\"\"SELECT region, COUNT(*) AS num_transactions FROM sales GROUP BY region;\"\"\", conn)"
   ]
  },
  {
   "cell_type": "markdown",
   "id": "0c8352d4",
   "metadata": {},
   "source": [
    "### Q8. Find minimum and maximum price per region.\n",
    "```sql\n",
    "SELECT region, MIN(price) AS min_price, MAX(price) AS max_price FROM sales GROUP BY region;\n",
    "```"
   ]
  },
  {
   "cell_type": "code",
   "execution_count": null,
   "id": "a2a468b7",
   "metadata": {},
   "outputs": [],
   "source": [
    "pd.read_sql(\"\"\"SELECT region, MIN(price) AS min_price, MAX(price) AS max_price FROM sales GROUP BY region;\"\"\", conn)"
   ]
  },
  {
   "cell_type": "markdown",
   "id": "3b2599aa",
   "metadata": {},
   "source": [
    "### Q9. Find total revenue per region and product.\n",
    "```sql\n",
    "SELECT region, product, SUM(quantity*price) AS total_revenue FROM sales GROUP BY region, product;\n",
    "```"
   ]
  },
  {
   "cell_type": "code",
   "execution_count": null,
   "id": "d4d5a403",
   "metadata": {},
   "outputs": [],
   "source": [
    "pd.read_sql(\"\"\"SELECT region, product, SUM(quantity*price) AS total_revenue FROM sales GROUP BY region, product;\"\"\", conn)"
   ]
  },
  {
   "cell_type": "markdown",
   "id": "a51b3c3b",
   "metadata": {},
   "source": [
    "### Q10. Find the average revenue per transaction in each region.\n",
    "```sql\n",
    "SELECT region, AVG(quantity*price) AS avg_revenue FROM sales GROUP BY region;\n",
    "```"
   ]
  },
  {
   "cell_type": "code",
   "execution_count": null,
   "id": "bb716784",
   "metadata": {},
   "outputs": [],
   "source": [
    "pd.read_sql(\"\"\"SELECT region, AVG(quantity*price) AS avg_revenue FROM sales GROUP BY region;\"\"\", conn)"
   ]
  },
  {
   "cell_type": "markdown",
   "id": "d13f9505",
   "metadata": {},
   "source": [
    "## 📊 Visualizations of GROUP BY Results\n",
    "Here we add simple matplotlib bar charts for some queries."
   ]
  },
  {
   "cell_type": "markdown",
   "id": "ec569bfd",
   "metadata": {},
   "source": [
    "### Bar Chart: Total Quantity per Region"
   ]
  },
  {
   "cell_type": "code",
   "execution_count": null,
   "id": "32cb471b",
   "metadata": {},
   "outputs": [],
   "source": [
    "\n",
    "import matplotlib.pyplot as plt\n",
    "\n",
    "df = pd.read_sql(\"SELECT region, SUM(quantity) AS total_quantity FROM sales GROUP BY region;\", conn)\n",
    "df.plot(kind=\"bar\", x=\"region\", y=\"total_quantity\", legend=False)\n",
    "plt.title(\"Total Quantity per Region\")\n",
    "plt.ylabel(\"Quantity\")\n",
    "plt.show()\n"
   ]
  },
  {
   "cell_type": "markdown",
   "id": "aa127189",
   "metadata": {},
   "source": [
    "### Bar Chart: Average Price per Product"
   ]
  },
  {
   "cell_type": "code",
   "execution_count": null,
   "id": "368ca693",
   "metadata": {},
   "outputs": [],
   "source": [
    "\n",
    "df = pd.read_sql(\"SELECT product, AVG(price) AS avg_price FROM sales GROUP BY product;\", conn)\n",
    "df.plot(kind=\"bar\", x=\"product\", y=\"avg_price\", legend=False, color=\"orange\")\n",
    "plt.title(\"Average Price per Product\")\n",
    "plt.ylabel(\"Average Price\")\n",
    "plt.show()\n"
   ]
  },
  {
   "cell_type": "markdown",
   "id": "1280a72b",
   "metadata": {},
   "source": [
    "### Bar Chart: Total Revenue per Region"
   ]
  },
  {
   "cell_type": "code",
   "execution_count": null,
   "id": "4aa279ab",
   "metadata": {},
   "outputs": [],
   "source": [
    "\n",
    "df = pd.read_sql(\"SELECT region, SUM(quantity*price) AS total_revenue FROM sales GROUP BY region;\", conn)\n",
    "df.plot(kind=\"bar\", x=\"region\", y=\"total_revenue\", legend=False, color=\"green\")\n",
    "plt.title(\"Total Revenue per Region\")\n",
    "plt.ylabel(\"Revenue\")\n",
    "plt.show()\n"
   ]
  }
 ],
 "metadata": {},
 "nbformat": 4,
 "nbformat_minor": 5
}