{
 "cells": [
  {
   "cell_type": "markdown",
   "id": "7ca2098e",
   "metadata": {},
   "source": [
    "# Teachers Table EDA and GroupBy Analysis"
   ]
  },
  {
   "cell_type": "code",
   "execution_count": null,
   "id": "478c8b93",
   "metadata": {},
   "outputs": [],
   "source": [
    "# ---- Configuration ----\n",
    "HOST = \"127.0.0.1\"\n",
    "USER = \"root\"\n",
    "PASSWORD = \"yourpassword\"\n",
    "DATABASE = \"your_database\"\n"
   ]
  },
  {
   "cell_type": "code",
   "execution_count": null,
   "id": "eab77551",
   "metadata": {},
   "outputs": [],
   "source": [
    "# ---- Imports & Connection ----\n",
    "import pandas as pd\n",
    "import mysql.connector\n",
    "import matplotlib.pyplot as plt\n",
    "\n",
    "%matplotlib inline\n",
    "\n",
    "conn = mysql.connector.connect(\n",
    "    host=HOST,\n",
    "    user=USER,\n",
    "    password=PASSWORD,\n",
    "    database=DATABASE\n",
    ")\n",
    "print(\"✅ Connected to MySQL!\")"
   ]
  },
  {
   "cell_type": "code",
   "execution_count": null,
   "id": "d3913633",
   "metadata": {},
   "outputs": [],
   "source": [
    "# ---- Load teachers table ----\n",
    "df = pd.read_sql(\"SELECT * FROM teachers;\", conn)\n",
    "df.head()"
   ]
  },
  {
   "cell_type": "code",
   "execution_count": null,
   "id": "f0ee3b3a",
   "metadata": {},
   "outputs": [],
   "source": [
    "# ---- Exploratory Analysis ----\n",
    "print(\"--- Info ---\")\n",
    "print(df.info())\n",
    "print(\"\\n--- Summary ---\")\n",
    "print(df.describe(include='all'))\n",
    "print(\"\\n--- Missing Values ---\")\n",
    "print(df.isnull().sum())"
   ]
  },
  {
   "cell_type": "code",
   "execution_count": null,
   "id": "f37e8c92",
   "metadata": {},
   "outputs": [],
   "source": [
    "# ---- Average salary per degree ----\n",
    "avg_salary_degree = df.groupby(\"degree\")['salary'].mean()\n",
    "display(avg_salary_degree)\n",
    "\n",
    "avg_salary_degree.plot(kind='bar', title=\"Average Salary by Degree\", figsize=(8,5))\n",
    "plt.show()"
   ]
  },
  {
   "cell_type": "code",
   "execution_count": null,
   "id": "91255932",
   "metadata": {},
   "outputs": [],
   "source": [
    "# ---- Average salary per school ----\n",
    "avg_salary_school = df.groupby(\"school\")['salary'].mean()\n",
    "display(avg_salary_school)\n",
    "\n",
    "avg_salary_school.plot(kind='bar', title=\"Average Salary by School\", figsize=(8,5))\n",
    "plt.show()"
   ]
  },
  {
   "cell_type": "code",
   "execution_count": null,
   "id": "fb804b0b",
   "metadata": {},
   "outputs": [],
   "source": [
    "# ---- Teachers count per department ----\n",
    "dept_count = df['department'].value_counts()\n",
    "display(dept_count)\n",
    "\n",
    "dept_count.plot(kind='bar', title=\"Teachers Count by Department\", figsize=(8,5))\n",
    "plt.show()"
   ]
  },
  {
   "cell_type": "code",
   "execution_count": null,
   "id": "4a06edf7",
   "metadata": {},
   "outputs": [],
   "source": [
    "# ---- Average salary per country ----\n",
    "avg_salary_country = df.groupby(\"country\")['salary'].mean()\n",
    "display(avg_salary_country)\n",
    "\n",
    "avg_salary_country.plot(kind='bar', title=\"Average Salary by Country\", figsize=(8,5))\n",
    "plt.show()"
   ]
  },
  {
   "cell_type": "code",
   "execution_count": null,
   "id": "c5eb2487",
   "metadata": {},
   "outputs": [],
   "source": [
    "# ---- Hire trend by year ----\n",
    "hire_trend = df['hire_year'].value_counts().sort_index()\n",
    "display(hire_trend)\n",
    "\n",
    "hire_trend.plot(kind='line', marker='o', title=\"Hire Trend by Year\", figsize=(8,5))\n",
    "plt.show()"
   ]
  },
  {
   "cell_type": "markdown",
   "id": "9bfb3db5",
   "metadata": {},
   "source": [
    "## Salary Distribution Visualization"
   ]
  },
  {
   "cell_type": "code",
   "execution_count": null,
   "id": "83c5dc50",
   "metadata": {},
   "outputs": [],
   "source": [
    "# ---- Salary distribution histogram ----\n",
    "df['salary'].plot(kind='hist', bins=20, title=\"Salary Distribution Histogram\", figsize=(8,5))\n",
    "plt.xlabel(\"Salary\")\n",
    "plt.show()"
   ]
  },
  {
   "cell_type": "code",
   "execution_count": null,
   "id": "6046d85d",
   "metadata": {},
   "outputs": [],
   "source": [
    "# ---- Salary distribution boxplot ----\n",
    "df['salary'].plot(kind='box', title=\"Salary Distribution Boxplot\", figsize=(5,7))\n",
    "plt.show()"
   ]
  },
  {
   "cell_type": "markdown",
   "id": "45e14140",
   "metadata": {},
   "source": [
    "## Salary Distribution by Groups"
   ]
  },
  {
   "cell_type": "code",
   "execution_count": null,
   "id": "57974994",
   "metadata": {},
   "outputs": [],
   "source": [
    "# ---- Salary distribution by degree ----\n",
    "df.boxplot(column='salary', by='degree', grid=False, figsize=(8,6))\n",
    "plt.title(\"Salary Distribution by Degree\")\n",
    "plt.suptitle(\"\")\n",
    "plt.xlabel(\"Degree\")\n",
    "plt.ylabel(\"Salary\")\n",
    "plt.show()"
   ]
  },
  {
   "cell_type": "code",
   "execution_count": null,
   "id": "6d786d45",
   "metadata": {},
   "outputs": [],
   "source": [
    "# ---- Salary distribution by school ----\n",
    "df.boxplot(column='salary', by='school', grid=False, figsize=(10,6))\n",
    "plt.title(\"Salary Distribution by School\")\n",
    "plt.suptitle(\"\")\n",
    "plt.xlabel(\"School\")\n",
    "plt.ylabel(\"Salary\")\n",
    "plt.show()"
   ]
  },
  {
   "cell_type": "code",
   "execution_count": null,
   "id": "5194578b",
   "metadata": {},
   "outputs": [],
   "source": [
    "# ---- Cleanup ----\n",
    "try:\n",
    "    conn.close()\n",
    "    print(\"🔌 MySQL connection closed.\")\n",
    "except Exception as e:\n",
    "    print(\"Connection close error:\", e)"
   ]
  }
 ],
 "metadata": {},
 "nbformat": 4,
 "nbformat_minor": 5
}
