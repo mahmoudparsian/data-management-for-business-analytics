{
 "cells": [
  {
   "cell_type": "markdown",
   "id": "941f1956",
   "metadata": {},
   "source": [
    "# Cats EDA: MySQL → Pandas → Visualizations"
   ]
  },
  {
   "cell_type": "markdown",
   "id": "192753e8",
   "metadata": {},
   "source": [
    "## Prerequisites\n",
    "Install packages if needed:\n",
    "```bash\n",
    "pip install pandas mysql-connector-python matplotlib\n",
    "```\n"
   ]
  },
  {
   "cell_type": "code",
   "execution_count": null,
   "id": "fa280203",
   "metadata": {},
   "outputs": [],
   "source": [
    "# ---- Configuration ----\n",
    "HOST = \"127.0.0.1\"\n",
    "USER = \"root\"\n",
    "PASSWORD = \"yourpassword\"\n",
    "DATABASE = \"your_database\"\n",
    "TABLE_NAME = \"cats\"\n"
   ]
  },
  {
   "cell_type": "code",
   "execution_count": null,
   "id": "3c501bb3",
   "metadata": {},
   "outputs": [],
   "source": [
    "# ---- Imports & Connection ----\n",
    "import pandas as pd\n",
    "import mysql.connector\n",
    "import matplotlib.pyplot as plt\n",
    "\n",
    "%matplotlib inline\n",
    "\n",
    "conn = mysql.connector.connect(\n",
    "    host=HOST,\n",
    "    user=USER,\n",
    "    password=PASSWORD,\n",
    "    database=DATABASE\n",
    ")\n",
    "print(\"✅ Connected to MySQL!\")"
   ]
  },
  {
   "cell_type": "code",
   "execution_count": null,
   "id": "219bdf98",
   "metadata": {},
   "outputs": [],
   "source": [
    "# ---- Load cats table ----\n",
    "query = f\"SELECT * FROM {TABLE_NAME};\"\n",
    "df = pd.read_sql(query, conn)\n",
    "print(f\"Loaded {len(df)} rows from '{TABLE_NAME}'.\")\n",
    "df.head()"
   ]
  },
  {
   "cell_type": "code",
   "execution_count": null,
   "id": "16492cf0",
   "metadata": {},
   "outputs": [],
   "source": [
    "# ---- Info & Missing Values ----\n",
    "print(\"DataFrame info:\")\n",
    "print(df.info())\n",
    "print(\"\\nMissing values per column:\")\n",
    "print(df.isna().sum())\n",
    "\n",
    "df.describe(include='all')"
   ]
  },
  {
   "cell_type": "code",
   "execution_count": null,
   "id": "7a4521a0",
   "metadata": {},
   "outputs": [],
   "source": [
    "# ---- Age distribution ----\n",
    "plt.figure(figsize=(8,5))\n",
    "df['age'].dropna().plot(kind='hist', bins=15)\n",
    "plt.title(\"Age Distribution of Cats\")\n",
    "plt.xlabel(\"Age\")\n",
    "plt.ylabel(\"Count\")\n",
    "plt.show()"
   ]
  },
  {
   "cell_type": "code",
   "execution_count": null,
   "id": "73839ecc",
   "metadata": {},
   "outputs": [],
   "source": [
    "# ---- Gender distribution ----\n",
    "plt.figure(figsize=(6,4))\n",
    "df['gender'].value_counts().plot(kind='bar')\n",
    "plt.title(\"Gender Distribution of Cats\")\n",
    "plt.xlabel(\"Gender\")\n",
    "plt.ylabel(\"Count\")\n",
    "plt.show()"
   ]
  },
  {
   "cell_type": "code",
   "execution_count": null,
   "id": "afbaa22b",
   "metadata": {},
   "outputs": [],
   "source": [
    "# ---- Average tricks by breed ----\n",
    "avg_tricks = df.groupby(\"breed\")['num_of_tricks'].mean().sort_values(ascending=False)\n",
    "display(avg_tricks)\n",
    "\n",
    "avg_tricks.plot(kind='bar', figsize=(8,5), title=\"Average Tricks by Breed\")\n",
    "plt.show()"
   ]
  },
  {
   "cell_type": "code",
   "execution_count": null,
   "id": "4cda7439",
   "metadata": {},
   "outputs": [],
   "source": [
    "# ---- Count by country ----\n",
    "count_by_country = df['country'].value_counts()\n",
    "display(count_by_country)\n",
    "\n",
    "count_by_country.plot(kind='bar', figsize=(8,5), title=\"Cats by Country\")\n",
    "plt.show()"
   ]
  },
  {
   "cell_type": "markdown",
   "id": "edd6df44",
   "metadata": {},
   "source": [
    "## Join Cats with Breeds Table"
   ]
  },
  {
   "cell_type": "code",
   "execution_count": null,
   "id": "f16770f1",
   "metadata": {},
   "outputs": [],
   "source": [
    "# ---- Join cats with breeds table ----\n",
    "query = f\"\"\"\n",
    "SELECT c.*, b.description\n",
    "FROM {TABLE_NAME} c\n",
    "LEFT JOIN breeds b ON c.breed = b.breed;\n",
    "\"\"\"\n",
    "df_joined = pd.read_sql(query, conn)\n",
    "print(f\"Loaded {len(df_joined)} rows with breed descriptions.\")\n",
    "df_joined.head()"
   ]
  },
  {
   "cell_type": "code",
   "execution_count": null,
   "id": "811452d6",
   "metadata": {},
   "outputs": [],
   "source": [
    "# ---- Average tricks by breed with description ----\n",
    "avg_tricks_desc = df_joined.groupby([\"breed\",\"description\"])['num_of_tricks'].mean().sort_values(ascending=False)\n",
    "display(avg_tricks_desc)\n",
    "\n",
    "avg_tricks_desc.plot(kind='bar', figsize=(10,6), title=\"Average Tricks by Breed (with Description)\")\n",
    "plt.ylabel(\"Average Tricks\")\n",
    "plt.show()"
   ]
  },
  {
   "cell_type": "markdown",
   "id": "ef301b00",
   "metadata": {},
   "source": [
    "## Breed-Level Summary Table"
   ]
  },
  {
   "cell_type": "code",
   "execution_count": null,
   "id": "e7e9b995",
   "metadata": {},
   "outputs": [],
   "source": [
    "# ---- Breed-level summary ----\n",
    "breed_summary = df_joined.groupby([\"breed\",\"description\"]).agg(\n",
    "    count_cats=('id','count'),\n",
    "    avg_age=('age','mean'),\n",
    "    avg_tricks=('num_of_tricks','mean')\n",
    ").reset_index()\n",
    "\n",
    "print(\"Breed-level Summary:\")\n",
    "display(breed_summary)\n",
    "\n",
    "# Optional: visualize average age by breed\n",
    "breed_summary.plot(x='breed', y='avg_age', kind='bar', figsize=(10,5), title=\"Average Age per Breed\")\n",
    "plt.ylabel(\"Average Age\")\n",
    "plt.show()\n",
    "\n",
    "# Optional: visualize number of cats by breed\n",
    "breed_summary.plot(x='breed', y='count_cats', kind='bar', figsize=(10,5), title=\"Number of Cats per Breed\")\n",
    "plt.ylabel(\"Number of Cats\")\n",
    "plt.show()"
   ]
  },
  {
   "cell_type": "code",
   "execution_count": null,
   "id": "63b7f299",
   "metadata": {},
   "outputs": [],
   "source": [
    "# ---- Cleanup ----\n",
    "try:\n",
    "    conn.close()\n",
    "    print(\"🔌 MySQL connection closed.\")\n",
    "except Exception as e:\n",
    "    print(\"Error closing connection:\", e)"
   ]
  }
 ],
 "metadata": {},
 "nbformat": 4,
 "nbformat_minor": 5
}
