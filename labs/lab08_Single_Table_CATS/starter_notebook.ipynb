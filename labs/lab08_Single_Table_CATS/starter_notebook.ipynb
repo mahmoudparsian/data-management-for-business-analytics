{
 "cells": [
  {
   "cell_type": "markdown",
   "id": "3a9ee6ca",
   "metadata": {},
   "source": [
    "# Starter Notebook: Cats & Breeds (MySQL)"
   ]
  },
  {
   "cell_type": "code",
   "execution_count": null,
   "id": "8bab4fa7",
   "metadata": {},
   "outputs": [],
   "source": [
    "import pandas as pd\n",
    "import mysql.connector\n",
    "USER, PASSWORD, HOST, DB = \"root\", \"yourpassword\", \"127.0.0.1\", \"cats_db\"\n",
    "conn = mysql.connector.connect(user=USER, password=PASSWORD, host=HOST, database=DB, allow_local_infile=True)\n",
    "cur = conn.cursor(); print(\"Connected!\")"
   ]
  },
  {
   "cell_type": "code",
   "execution_count": null,
   "id": "e57af74b",
   "metadata": {},
   "outputs": [],
   "source": [
    "# Create schema\n",
    "schema = open('data/schema.sql').read()\n",
    "for stmt in [s for s in schema.split(';') if s.strip()]:\n",
    "    cur.execute(stmt + ';')\n",
    "conn.commit(); print(\"Schema created.\")"
   ]
  },
  {
   "cell_type": "code",
   "execution_count": null,
   "id": "2338f20b",
   "metadata": {},
   "outputs": [],
   "source": [
    "# Load breeds\n",
    "cur.execute(open('data/breeds.sql').read()); conn.commit(); print(\"Breeds loaded.\")"
   ]
  },
  {
   "cell_type": "code",
   "execution_count": null,
   "id": "5142463d",
   "metadata": {},
   "outputs": [],
   "source": [
    "# Load cats via INSERTs\n",
    "sql_text = open('data/cats.sql').read()\n",
    "for stmt in [s for s in sql_text.split(';') if s.strip()]:\n",
    "    cur.execute(stmt + ';')\n",
    "conn.commit(); print(\"Cats loaded via INSERTs.\")"
   ]
  },
  {
   "cell_type": "code",
   "execution_count": null,
   "id": "7c393c8e",
   "metadata": {},
   "outputs": [],
   "source": [
    "import pandas as pd\n",
    "pd.read_sql(\"\"\"SELECT c.name, c.breed, c.country, c.num_of_tricks, b.description\n",
    "FROM cats c JOIN breeds b ON c.breed=b.breed LIMIT 10;\"\"\", conn)"
   ]
  },
  {
   "cell_type": "code",
   "execution_count": null,
   "id": "3eda863c",
   "metadata": {},
   "outputs": [],
   "source": [
    "pd.read_sql(\"\"\"SELECT breed, COUNT(*) AS cnt\n",
    "FROM cats GROUP BY breed ORDER BY cnt DESC;\"\"\", conn)"
   ]
  },
  {
   "cell_type": "code",
   "execution_count": null,
   "id": "d8e70677",
   "metadata": {},
   "outputs": [],
   "source": [
    "pd.read_sql(\"\"\"SELECT breed, COUNT(*) AS cnt,\n",
    "       RANK() OVER (ORDER BY COUNT(*) DESC) AS rnk\n",
    "FROM cats GROUP BY breed;\"\"\", conn)"
   ]
  },
  {
   "cell_type": "code",
   "execution_count": null,
   "id": "862270a4",
   "metadata": {},
   "outputs": [],
   "source": [
    "cur.close(); conn.close(); print(\"Done.\")"
   ]
  }
 ],
 "metadata": {},
 "nbformat": 4,
 "nbformat_minor": 5
}
