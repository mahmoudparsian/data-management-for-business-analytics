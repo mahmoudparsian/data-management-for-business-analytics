{
 "cells": [
  {
   "cell_type": "markdown",
   "id": "018fcba9",
   "metadata": {},
   "source": [
    "# GROUP BY in SQL (Employees Table)\n",
    "\n",
    "This notebook demonstrates GROUP BY queries using a simple `employees` table."
   ]
  },
  {
   "cell_type": "code",
   "execution_count": null,
   "id": "a3c6275e",
   "metadata": {},
   "outputs": [],
   "source": [
    "\n",
    "import sqlite3\n",
    "import pandas as pd\n",
    "\n",
    "# Create in-memory SQLite DB\n",
    "conn = sqlite3.connect(\":memory:\")\n",
    "cursor = conn.cursor()\n"
   ]
  },
  {
   "cell_type": "code",
   "execution_count": null,
   "id": "a653edb0",
   "metadata": {},
   "outputs": [],
   "source": [
    "\n",
    "cursor.execute(\"\"\"\n",
    "CREATE TABLE employees (\n",
    "   emp_id INT,\n",
    "   country VARCHAR(30),\n",
    "   degree VARCHAR(25),\n",
    "   gender VARCHAR(10),\n",
    "   department varchar(20),\n",
    "   salary INT\n",
    ");\n",
    "\"\"\")\n"
   ]
  },
  {
   "cell_type": "code",
   "execution_count": null,
   "id": "b868a854",
   "metadata": {},
   "outputs": [],
   "source": [
    "\n",
    "cursor.executemany(\"INSERT INTO employees VALUES (?, ?, ?, ?, ?, ?)\", [\n",
    "(1, 'USA', 'MS',  'MALE', 'AI', 170000),\n",
    "(2, 'USA', 'MBA', 'MALE', 'Business', 140000),\n",
    "(3, 'USA', 'PHD', 'FEMALE', 'AI', 180000),\n",
    "(4, 'USA', 'PHD', 'MALE', 'IT', 160000),\n",
    "(5, 'USA', 'BS', 'FEMALE', None, 120000),\n",
    "(6, 'CANADA', 'BS',  'MALE', 'Engineering', 170000),\n",
    "(7, 'CANADA', 'BS', 'MALE', 'Business', 130000),\n",
    "(8, 'CANADA', 'PHD', 'FEMALE', 'AI', 190000),\n",
    "(9, 'CANADA', 'MS', 'MALE', 'IT', 150000),\n",
    "(10, 'INDIA', 'BS',  'FEMALE', 'Engineering', 140000),\n",
    "(11, 'INDIA', 'MBA', 'FEMALE', 'Business', 160000),\n",
    "(12, 'INDIA', 'PHD', 'FEMALE', 'AI', 180000),\n",
    "(13, 'INDIA', 'MS', 'MALE', 'IT', 150000),\n",
    "(14, 'INDIA', 'PHD', 'FEMALE', 'AI', 150000),\n",
    "(15, 'INDIA', 'MS', 'MALE', 'IT', 120000)\n",
    "])\n",
    "conn.commit()\n"
   ]
  },
  {
   "cell_type": "code",
   "execution_count": null,
   "id": "38c91e72",
   "metadata": {},
   "outputs": [],
   "source": [
    "pd.read_sql('SELECT * FROM employees', conn)"
   ]
  },
  {
   "cell_type": "markdown",
   "id": "7e56f0bb",
   "metadata": {},
   "source": [
    "### Count employees in each country\n",
    "```sql\n",
    "SELECT country, COUNT(*) AS num_employees FROM employees GROUP BY country;\n",
    "```"
   ]
  },
  {
   "cell_type": "code",
   "execution_count": null,
   "id": "270262a6",
   "metadata": {},
   "outputs": [],
   "source": [
    "pd.read_sql(\"\"\"SELECT country, COUNT(*) AS num_employees FROM employees GROUP BY country;\"\"\", conn)"
   ]
  },
  {
   "cell_type": "markdown",
   "id": "46c55b31",
   "metadata": {},
   "source": [
    "### Find average salary per country\n",
    "```sql\n",
    "SELECT country, AVG(salary) AS avg_salary FROM employees GROUP BY country;\n",
    "```"
   ]
  },
  {
   "cell_type": "code",
   "execution_count": null,
   "id": "7950862a",
   "metadata": {},
   "outputs": [],
   "source": [
    "pd.read_sql(\"\"\"SELECT country, AVG(salary) AS avg_salary FROM employees GROUP BY country;\"\"\", conn)"
   ]
  },
  {
   "cell_type": "markdown",
   "id": "d3e553de",
   "metadata": {},
   "source": [
    "### Find maximum salary per degree\n",
    "```sql\n",
    "SELECT degree, MAX(salary) AS max_salary FROM employees GROUP BY degree;\n",
    "```"
   ]
  },
  {
   "cell_type": "code",
   "execution_count": null,
   "id": "01855f63",
   "metadata": {},
   "outputs": [],
   "source": [
    "pd.read_sql(\"\"\"SELECT degree, MAX(salary) AS max_salary FROM employees GROUP BY degree;\"\"\", conn)"
   ]
  },
  {
   "cell_type": "markdown",
   "id": "17fea2fd",
   "metadata": {},
   "source": [
    "### Find minimum salary per gender\n",
    "```sql\n",
    "SELECT gender, MIN(salary) AS min_salary FROM employees GROUP BY gender;\n",
    "```"
   ]
  },
  {
   "cell_type": "code",
   "execution_count": null,
   "id": "789a6af0",
   "metadata": {},
   "outputs": [],
   "source": [
    "pd.read_sql(\"\"\"SELECT gender, MIN(salary) AS min_salary FROM employees GROUP BY gender;\"\"\", conn)"
   ]
  },
  {
   "cell_type": "markdown",
   "id": "f026d192",
   "metadata": {},
   "source": [
    "### Find total salary per department\n",
    "```sql\n",
    "SELECT department, SUM(salary) AS total_salary FROM employees GROUP BY department;\n",
    "```"
   ]
  },
  {
   "cell_type": "code",
   "execution_count": null,
   "id": "a0013b74",
   "metadata": {},
   "outputs": [],
   "source": [
    "pd.read_sql(\"\"\"SELECT department, SUM(salary) AS total_salary FROM employees GROUP BY department;\"\"\", conn)"
   ]
  },
  {
   "cell_type": "markdown",
   "id": "3df704f1",
   "metadata": {},
   "source": [
    "### Count employees per country and degree\n",
    "```sql\n",
    "SELECT country, degree, COUNT(*) AS num_employees FROM employees GROUP BY country, degree;\n",
    "```"
   ]
  },
  {
   "cell_type": "code",
   "execution_count": null,
   "id": "20d0cd1a",
   "metadata": {},
   "outputs": [],
   "source": [
    "pd.read_sql(\"\"\"SELECT country, degree, COUNT(*) AS num_employees FROM employees GROUP BY country, degree;\"\"\", conn)"
   ]
  },
  {
   "cell_type": "markdown",
   "id": "f74276aa",
   "metadata": {},
   "source": [
    "### Find average salary per country and department\n",
    "```sql\n",
    "SELECT country, department, AVG(salary) AS avg_salary FROM employees GROUP BY country, department;\n",
    "```"
   ]
  },
  {
   "cell_type": "code",
   "execution_count": null,
   "id": "21a87bbd",
   "metadata": {},
   "outputs": [],
   "source": [
    "pd.read_sql(\"\"\"SELECT country, department, AVG(salary) AS avg_salary FROM employees GROUP BY country, department;\"\"\", conn)"
   ]
  },
  {
   "cell_type": "markdown",
   "id": "871490cf",
   "metadata": {},
   "source": [
    "### Find highest salary per country and gender\n",
    "```sql\n",
    "SELECT country, gender, MAX(salary) AS max_salary FROM employees GROUP BY country, gender;\n",
    "```"
   ]
  },
  {
   "cell_type": "code",
   "execution_count": null,
   "id": "7969eb36",
   "metadata": {},
   "outputs": [],
   "source": [
    "pd.read_sql(\"\"\"SELECT country, gender, MAX(salary) AS max_salary FROM employees GROUP BY country, gender;\"\"\", conn)"
   ]
  },
  {
   "cell_type": "markdown",
   "id": "5ec350f5",
   "metadata": {},
   "source": [
    "### Find countries where average salary is greater than 150000\n",
    "```sql\n",
    "SELECT country, AVG(salary) AS avg_salary FROM employees GROUP BY country HAVING AVG(salary) > 150000;\n",
    "```"
   ]
  },
  {
   "cell_type": "code",
   "execution_count": null,
   "id": "65efcdae",
   "metadata": {},
   "outputs": [],
   "source": [
    "pd.read_sql(\"\"\"SELECT country, AVG(salary) AS avg_salary FROM employees GROUP BY country HAVING AVG(salary) > 150000;\"\"\", conn)"
   ]
  },
  {
   "cell_type": "markdown",
   "id": "bf4ef7ee",
   "metadata": {},
   "source": [
    "### Find departments with more than 2 employees\n",
    "```sql\n",
    "SELECT department, COUNT(*) AS num_employees FROM employees GROUP BY department HAVING COUNT(*) > 2;\n",
    "```"
   ]
  },
  {
   "cell_type": "code",
   "execution_count": null,
   "id": "4ef11e32",
   "metadata": {},
   "outputs": [],
   "source": [
    "pd.read_sql(\"\"\"SELECT department, COUNT(*) AS num_employees FROM employees GROUP BY department HAVING COUNT(*) > 2;\"\"\", conn)"
   ]
  },
  {
   "cell_type": "markdown",
   "id": "5225f222",
   "metadata": {},
   "source": [
    "### Find degrees where average salary is above 160000\n",
    "```sql\n",
    "SELECT degree, AVG(salary) AS avg_salary FROM employees GROUP BY degree HAVING AVG(salary) > 160000;\n",
    "```"
   ]
  },
  {
   "cell_type": "code",
   "execution_count": null,
   "id": "b469d61d",
   "metadata": {},
   "outputs": [],
   "source": [
    "pd.read_sql(\"\"\"SELECT degree, AVG(salary) AS avg_salary FROM employees GROUP BY degree HAVING AVG(salary) > 160000;\"\"\", conn)"
   ]
  },
  {
   "cell_type": "markdown",
   "id": "64efa093",
   "metadata": {},
   "source": [
    "### Find total salary by country and department (exclude NULL departments)\n",
    "```sql\n",
    "SELECT country, department, SUM(salary) AS total_salary FROM employees WHERE department IS NOT NULL GROUP BY country, department;\n",
    "```"
   ]
  },
  {
   "cell_type": "code",
   "execution_count": null,
   "id": "34ab2c19",
   "metadata": {},
   "outputs": [],
   "source": [
    "pd.read_sql(\"\"\"SELECT country, department, SUM(salary) AS total_salary FROM employees WHERE department IS NOT NULL GROUP BY country, department;\"\"\", conn)"
   ]
  }
 ],
 "metadata": {},
 "nbformat": 4,
 "nbformat_minor": 5
}