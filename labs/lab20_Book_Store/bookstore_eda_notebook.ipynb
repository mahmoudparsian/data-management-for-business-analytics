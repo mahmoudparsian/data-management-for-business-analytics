{
 "cells": [
  {
   "cell_type": "markdown",
   "id": "e24486c0",
   "metadata": {},
   "source": [
    "# Bookstore Data EDA and GroupBy Analysis"
   ]
  },
  {
   "cell_type": "code",
   "execution_count": null,
   "id": "de0b4cca",
   "metadata": {},
   "outputs": [],
   "source": [
    "# ---- Configuration ----\n",
    "HOST = \"127.0.0.1\"\n",
    "USER = \"root\"\n",
    "PASSWORD = \"yourpassword\"\n",
    "DATABASE = \"your_database\"\n"
   ]
  },
  {
   "cell_type": "code",
   "execution_count": null,
   "id": "9e40563d",
   "metadata": {},
   "outputs": [],
   "source": [
    "# ---- Imports & Connection ----\n",
    "import pandas as pd\n",
    "import mysql.connector\n",
    "import matplotlib.pyplot as plt\n",
    "\n",
    "%matplotlib inline\n",
    "\n",
    "conn = mysql.connector.connect(\n",
    "    host=HOST,\n",
    "    user=USER,\n",
    "    password=PASSWORD,\n",
    "    database=DATABASE\n",
    ")\n",
    "print(\"✅ Connected to MySQL!\")"
   ]
  },
  {
   "cell_type": "code",
   "execution_count": null,
   "id": "f45058fb",
   "metadata": {},
   "outputs": [],
   "source": [
    "# ---- Load tables ----\n",
    "tables = {}\n",
    "for t in [\"stores\",\"customers\",\"books\",\"transactions\"]:\n",
    "    tables[t] = pd.read_sql(f\"SELECT * FROM {t};\", conn)\n",
    "\n",
    "for name, df in tables.items():\n",
    "    print(f\"--- {name.upper()} ---\")\n",
    "    display(df.head())"
   ]
  },
  {
   "cell_type": "code",
   "execution_count": null,
   "id": "575df473",
   "metadata": {},
   "outputs": [],
   "source": [
    "# ---- Exploratory Analysis ----\n",
    "for name, df in tables.items():\n",
    "    print(f\"--- {name.upper()} ---\")\n",
    "    print(df.info())\n",
    "    print(df.describe(include='all'))\n",
    "    print(\"\\nMissing values:\")\n",
    "    print(df.isnull().sum())\n",
    "    print(\"\\n\")"
   ]
  },
  {
   "cell_type": "code",
   "execution_count": null,
   "id": "6c160566",
   "metadata": {},
   "outputs": [],
   "source": [
    "# ---- Merge for analysis ----\n",
    "merged = tables['transactions'] \\    .merge(tables['customers'], on=\"customer_id\") \\    .merge(tables['stores'], on=\"store_id\") \\    .merge(tables['books'], on=\"book_id\")\n",
    "merged.head()"
   ]
  },
  {
   "cell_type": "code",
   "execution_count": null,
   "id": "3884758e",
   "metadata": {},
   "outputs": [],
   "source": [
    "# ---- Average price per country ----\n",
    "avg_price_country = merged.groupby(\"country\")['price'].mean().sort_values(ascending=False)\n",
    "display(avg_price_country)\n",
    "\n",
    "avg_price_country.plot(kind='bar', title=\"Average Price per Country\", figsize=(8,5))\n",
    "plt.show()"
   ]
  },
  {
   "cell_type": "code",
   "execution_count": null,
   "id": "d12ef80d",
   "metadata": {},
   "outputs": [],
   "source": [
    "# ---- Total sales per store ----\n",
    "sales_store = merged.groupby(\"store_location\")['price'].sum().sort_values(ascending=False)\n",
    "display(sales_store)\n",
    "\n",
    "sales_store.plot(kind='bar', title=\"Total Sales per Store\", figsize=(10,5))\n",
    "plt.show()"
   ]
  },
  {
   "cell_type": "code",
   "execution_count": null,
   "id": "db63830d",
   "metadata": {},
   "outputs": [],
   "source": [
    "# ---- Purchases per book category ----\n",
    "cat_count = merged['category'].value_counts()\n",
    "display(cat_count)\n",
    "\n",
    "cat_count.plot(kind='bar', title=\"Purchases per Book Category\", figsize=(10,5))\n",
    "plt.show()"
   ]
  },
  {
   "cell_type": "code",
   "execution_count": null,
   "id": "d67d9f0d",
   "metadata": {},
   "outputs": [],
   "source": [
    "# ---- Average customer age per category ----\n",
    "avg_age_cat = merged.groupby(\"category\")['age'].mean().sort_values(ascending=False)\n",
    "display(avg_age_cat)\n",
    "\n",
    "avg_age_cat.plot(kind='bar', title=\"Average Customer Age per Category\", figsize=(10,5))\n",
    "plt.show()"
   ]
  },
  {
   "cell_type": "markdown",
   "id": "30cf7446",
   "metadata": {},
   "source": [
    "## Join-based GroupBy Examples"
   ]
  },
  {
   "cell_type": "code",
   "execution_count": null,
   "id": "e2f41923",
   "metadata": {},
   "outputs": [],
   "source": [
    "# ---- Total sales per author ----\n",
    "sales_author = merged.groupby(\"author\")['price'].sum().sort_values(ascending=False)\n",
    "display(sales_author.head(10))\n",
    "\n",
    "sales_author.head(10).plot(kind='bar', title=\"Top 10 Authors by Sales\", figsize=(10,5))\n",
    "plt.show()"
   ]
  },
  {
   "cell_type": "code",
   "execution_count": null,
   "id": "48afd56a",
   "metadata": {},
   "outputs": [],
   "source": [
    "# ---- Total sales per book category per country ----\n",
    "sales_cat_country = merged.groupby([\"country\",\"category\"])['price'].sum().unstack().fillna(0)\n",
    "display(sales_cat_country)\n",
    "\n",
    "sales_cat_country.plot(kind='bar', stacked=True, figsize=(12,6), title=\"Sales by Category per Country\")\n",
    "plt.show()"
   ]
  },
  {
   "cell_type": "code",
   "execution_count": null,
   "id": "71f31c8c",
   "metadata": {},
   "outputs": [],
   "source": [
    "# ---- Average book price per author ----\n",
    "avg_price_author = merged.groupby(\"author\")['price'].mean().sort_values(ascending=False)\n",
    "display(avg_price_author.head(10))\n",
    "\n",
    "avg_price_author.head(10).plot(kind='bar', title=\"Top 10 Authors by Avg Price\", figsize=(10,5))\n",
    "plt.show()"
   ]
  },
  {
   "cell_type": "markdown",
   "id": "e18fc330",
   "metadata": {},
   "source": [
    "## Time-based Analysis"
   ]
  },
  {
   "cell_type": "code",
   "execution_count": null,
   "id": "a8ea913d",
   "metadata": {},
   "outputs": [],
   "source": [
    "# ---- Sales trend by year ----\n",
    "merged['year'] = pd.to_datetime(merged['purchase_date']).dt.year\n",
    "sales_year = merged.groupby('year')['price'].sum()\n",
    "display(sales_year)\n",
    "\n",
    "sales_year.plot(kind='line', marker='o', title=\"Total Sales by Year\", figsize=(8,5))\n",
    "plt.show()"
   ]
  },
  {
   "cell_type": "code",
   "execution_count": null,
   "id": "f4dc88bf",
   "metadata": {},
   "outputs": [],
   "source": [
    "# ---- Sales trend by month (all years combined) ----\n",
    "merged['month'] = pd.to_datetime(merged['purchase_date']).dt.month\n",
    "sales_month = merged.groupby('month')['price'].sum()\n",
    "display(sales_month)\n",
    "\n",
    "sales_month.plot(kind='bar', title=\"Total Sales by Month (all years combined)\", figsize=(8,5))\n",
    "plt.show()"
   ]
  },
  {
   "cell_type": "code",
   "execution_count": null,
   "id": "6fd278ce",
   "metadata": {},
   "outputs": [],
   "source": [
    "# ---- Cleanup ----\n",
    "try:\n",
    "    conn.close()\n",
    "    print(\"🔌 MySQL connection closed.\")\n",
    "except Exception as e:\n",
    "    print(\"Connection close error:\", e)"
   ]
  }
 ],
 "metadata": {},
 "nbformat": 4,
 "nbformat_minor": 5
}
