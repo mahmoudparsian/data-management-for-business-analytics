{
 "cells": [
  {
   "cell_type": "code",
   "execution_count": null,
   "metadata": {},
   "outputs": [],
   "source": [
    "import pandas as pd\nimport mysql.connector\n\n# connect to MySQL\nconn = mysql.connector.connect(user='root',password='password',host='127.0.0.1',database='uni_db')\ncur = conn.cursor()\n\n# Example: load students\nstudents = pd.read_csv('data/students.csv')\nprint(students.head())\n\n# Example query\nquery = \"SELECT country, COUNT(*) FROM students GROUP BY country;\"\ncur.execute(query)\nfor row in cur.fetchall():\n    print(row)\n\ncur.close(); conn.close()"
   ]
  }
 ],
 "metadata": {},
 "nbformat": 4,
 "nbformat_minor": 2
}
