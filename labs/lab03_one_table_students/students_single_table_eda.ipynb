{
 "cells": [
  {
   "cell_type": "markdown",
   "id": "d8222e2a",
   "metadata": {},
   "source": [
    "# Students Table EDA"
   ]
  },
  {
   "cell_type": "code",
   "execution_count": null,
   "id": "309ef724",
   "metadata": {},
   "outputs": [],
   "source": [
    "\n",
    "import mysql.connector\n",
    "import pandas as pd\n",
    "import matplotlib.pyplot as plt\n",
    "import seaborn as sns\n",
    "\n",
    "conn = mysql.connector.connect(\n",
    "    host=\"localhost\",\n",
    "    user=\"root\",\n",
    "    password=\"your_password\",\n",
    "    database=\"your_db\"\n",
    ")\n",
    "\n",
    "students_df = pd.read_sql(\"SELECT * FROM students\", conn)\n",
    "students_df.head()\n"
   ]
  },
  {
   "cell_type": "markdown",
   "id": "88d6638a",
   "metadata": {},
   "source": [
    "## Summary Statistics"
   ]
  },
  {
   "cell_type": "code",
   "execution_count": null,
   "id": "000a0558",
   "metadata": {},
   "outputs": [],
   "source": [
    "students_df.describe()"
   ]
  },
  {
   "cell_type": "markdown",
   "id": "d9fd5087",
   "metadata": {},
   "source": [
    "## Number of Students per Grade Level"
   ]
  },
  {
   "cell_type": "code",
   "execution_count": null,
   "id": "b4b6b430",
   "metadata": {},
   "outputs": [],
   "source": [
    "\n",
    "sns.countplot(data=students_df, x=\"grade_level\", order=students_df[\"grade_level\"].value_counts().index)\n",
    "plt.title(\"Number of Students per Grade Level\")\n",
    "plt.show()\n"
   ]
  },
  {
   "cell_type": "markdown",
   "id": "7ba4f75d",
   "metadata": {},
   "source": [
    "## Average GPA per Grade Level"
   ]
  },
  {
   "cell_type": "code",
   "execution_count": null,
   "id": "648a053d",
   "metadata": {},
   "outputs": [],
   "source": [
    "\n",
    "avg_gpa = students_df.groupby(\"grade_level\")[\"gpa\"].mean().reset_index()\n",
    "sns.barplot(data=avg_gpa, x=\"grade_level\", y=\"gpa\")\n",
    "plt.title(\"Average GPA per Grade Level\")\n",
    "plt.show()\n"
   ]
  },
  {
   "cell_type": "markdown",
   "id": "d41fa50d",
   "metadata": {},
   "source": [
    "## GPA Distribution by Enrollment Status"
   ]
  },
  {
   "cell_type": "code",
   "execution_count": null,
   "id": "7b421505",
   "metadata": {},
   "outputs": [],
   "source": [
    "\n",
    "sns.boxplot(data=students_df, x=\"enrolled\", y=\"gpa\")\n",
    "plt.title(\"GPA Distribution by Enrollment Status\")\n",
    "plt.show()\n"
   ]
  },
  {
   "cell_type": "markdown",
   "id": "296fa63d",
   "metadata": {},
   "source": [
    "## Average Age per Grade Level"
   ]
  },
  {
   "cell_type": "code",
   "execution_count": null,
   "id": "d965bca9",
   "metadata": {},
   "outputs": [],
   "source": [
    "\n",
    "avg_age = students_df.groupby(\"grade_level\")[\"age\"].mean().reset_index()\n",
    "sns.barplot(data=avg_age, x=\"grade_level\", y=\"age\")\n",
    "plt.title(\"Average Age per Grade Level\")\n",
    "plt.show()\n"
   ]
  }
 ],
 "metadata": {},
 "nbformat": 4,
 "nbformat_minor": 5
}
