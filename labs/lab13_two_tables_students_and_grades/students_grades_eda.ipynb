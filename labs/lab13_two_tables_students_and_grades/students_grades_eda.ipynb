{
 "cells": [
  {
   "cell_type": "markdown",
   "id": "8110ed1f",
   "metadata": {},
   "source": [
    "# Students & Grades Data Analysis"
   ]
  },
  {
   "cell_type": "code",
   "execution_count": null,
   "id": "81022316",
   "metadata": {},
   "outputs": [],
   "source": [
    "\n",
    "import mysql.connector\n",
    "import pandas as pd\n",
    "import matplotlib.pyplot as plt\n",
    "import seaborn as sns\n",
    "\n",
    "conn = mysql.connector.connect(\n",
    "    host=\"localhost\",\n",
    "    user=\"root\",\n",
    "    password=\"your_password\",\n",
    "    database=\"your_db\"\n",
    ")\n",
    "\n",
    "students_df = pd.read_sql(\"SELECT * FROM students\", conn)\n",
    "grades_df = pd.read_sql(\"SELECT * FROM grades\", conn)\n",
    "\n",
    "students_df.head(), grades_df.head()\n"
   ]
  },
  {
   "cell_type": "code",
   "execution_count": null,
   "id": "30dc94a4",
   "metadata": {},
   "outputs": [],
   "source": [
    "\n",
    "df = grades_df.merge(students_df, on=\"student_id\", how=\"left\")\n",
    "df.describe()\n"
   ]
  },
  {
   "cell_type": "code",
   "execution_count": null,
   "id": "ff9b0053",
   "metadata": {},
   "outputs": [],
   "source": [
    "\n",
    "sns.countplot(data=students_df, x=\"grade_level\", order=students_df[\"grade_level\"].value_counts().index)\n",
    "plt.title(\"Number of Students per Grade Level\")\n",
    "plt.show()\n"
   ]
  },
  {
   "cell_type": "code",
   "execution_count": null,
   "id": "f9f9d454",
   "metadata": {},
   "outputs": [],
   "source": [
    "\n",
    "avg_scores = df.groupby(\"grade_level\")[\"score\"].mean().reset_index()\n",
    "sns.barplot(data=avg_scores, x=\"grade_level\", y=\"score\")\n",
    "plt.title(\"Average Scores per Grade Level\")\n",
    "plt.show()\n"
   ]
  },
  {
   "cell_type": "code",
   "execution_count": null,
   "id": "1c3a70a1",
   "metadata": {},
   "outputs": [],
   "source": [
    "\n",
    "avg_course = df.groupby(\"course_name\")[\"score\"].mean().reset_index()\n",
    "sns.barplot(data=avg_course, x=\"course_name\", y=\"score\")\n",
    "plt.title(\"Average Scores per Course\")\n",
    "plt.xticks(rotation=45)\n",
    "plt.show()\n"
   ]
  },
  {
   "cell_type": "code",
   "execution_count": null,
   "id": "ade9cc50",
   "metadata": {},
   "outputs": [],
   "source": [
    "\n",
    "avg_semester = df.groupby(\"semester\")[\"score\"].mean().reset_index()\n",
    "sns.barplot(data=avg_semester, x=\"semester\", y=\"score\")\n",
    "plt.title(\"Average Scores by Semester\")\n",
    "plt.show()\n"
   ]
  }
 ],
 "metadata": {},
 "nbformat": 4,
 "nbformat_minor": 5
}
