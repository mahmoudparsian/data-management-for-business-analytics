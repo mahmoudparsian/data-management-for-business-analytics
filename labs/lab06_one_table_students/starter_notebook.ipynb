{
 "cells": [
  {
   "cell_type": "markdown",
   "id": "7d795d1e",
   "metadata": {},
   "source": [
    "# Starter Notebook: MySQL Students"
   ]
  },
  {
   "cell_type": "code",
   "execution_count": null,
   "id": "5cc42096",
   "metadata": {},
   "outputs": [],
   "source": [
    "import pandas as pd\n",
    "import mysql.connector\n",
    "USER, PASSWORD, HOST, DB = \"root\", \"yourpassword\", \"127.0.0.1\", \"school_db\"\n",
    "conn = mysql.connector.connect(user=USER, password=PASSWORD, host=HOST, database=DB, allow_local_infile=True)\n",
    "cur = conn.cursor(); print(\"Connected!\")"
   ]
  },
  {
   "cell_type": "code",
   "execution_count": null,
   "id": "d73aacc4",
   "metadata": {},
   "outputs": [],
   "source": [
    "cur.execute(open('create_students.sql').read()); conn.commit(); print(\"Table ensured.\")"
   ]
  },
  {
   "cell_type": "code",
   "execution_count": null,
   "id": "cef746bd",
   "metadata": {},
   "outputs": [],
   "source": [
    "load_sql = \"\"\"\n",
    "LOAD DATA LOCAL INFILE 'data/students.csv'\n",
    "INTO TABLE students\n",
    "FIELDS TERMINATED BY ','\n",
    "LINES TERMINATED BY '\\n'\n",
    "IGNORE 1 ROWS;\n",
    "\"\"\"\n",
    "try:\n",
    "    cur.execute(load_sql); conn.commit(); print(\"CSV loaded!\")\n",
    "except Exception as e:\n",
    "    print(\"If it fails, table may be loaded already or LOCAL INFILE disabled.\", e)"
   ]
  },
  {
   "cell_type": "code",
   "execution_count": null,
   "id": "c63cc820",
   "metadata": {},
   "outputs": [],
   "source": [
    "import pandas as pd\n",
    "pd.read_sql(\"SELECT country, COUNT(*) AS cnt FROM students GROUP BY country ORDER BY cnt DESC;\", conn)"
   ]
  },
  {
   "cell_type": "code",
   "execution_count": null,
   "id": "8ff3dbbc",
   "metadata": {},
   "outputs": [],
   "source": [
    "pd.read_sql(\"SELECT major, COUNT(*) AS cnt FROM students GROUP BY major ORDER BY cnt DESC;\", conn)"
   ]
  },
  {
   "cell_type": "code",
   "execution_count": null,
   "id": "4fafb423",
   "metadata": {},
   "outputs": [],
   "source": [
    "pd.read_sql(\"\"\"\n",
    "SELECT language, COUNT(*) AS cnt,\n",
    "       RANK() OVER (ORDER BY COUNT(*) DESC) AS rnk\n",
    "FROM students GROUP BY language;\n",
    "\"\"\", conn)"
   ]
  },
  {
   "cell_type": "code",
   "execution_count": null,
   "id": "5b7aa357",
   "metadata": {},
   "outputs": [],
   "source": [
    "cur.close(); conn.close(); print(\"Done.\")"
   ]
  }
 ],
 "metadata": {},
 "nbformat": 4,
 "nbformat_minor": 5
}
