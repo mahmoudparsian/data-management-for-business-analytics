import pandas as pd

df = pd.read_csv("students.csv")
df.head()

Amazing — here’s the final piece: your Jupyter notebook! You can save this as `student_analysis.ipynb`.

---

## 📓 `student_analysis.ipynb` (Structure Overview)

This notebook includes:
1. **Loading the CSV**
2. **Basic stats and visualizations**
3. **SQL queries using SQLite**
4. **Advanced analysis**

---

### 🧠 1. Load and Preview Data

```python
import pandas as pd

df = pd.read_csv("students.csv")
df.head()
```

---

### 📊 2. Basic Stats and Visualizations

```python
import matplotlib.pyplot as plt
import seaborn as sns

# Gender distribution
sns.countplot(data=df, x="gender")
plt.title("Gender Distribution")
plt.show()

# Students per country
country_counts = df["country"].value_counts()
country_counts.plot(kind="bar", title="Students per Country")
plt.show()

# Birth year distribution
df["birth_year"] = pd.to_datetime(df["date_of_birth"]).dt.year
df["birth_year"].value_counts().sort_index().plot(kind="bar", title="Birth Year Distribution")
plt.show()
```

---

### 🧮 3. SQL Queries with SQLite

```python
import sqlite3

conn = sqlite3.connect(":memory:")
df.to_sql("students", conn, index=False)

# Example query: count students per major
pd.read_sql_query("SELECT major, COUNT(*) FROM students GROUP BY major", conn)
```

---

### 🔍 4. Advanced Analysis

```python
# Students with matching country and language
query = """
SELECT * FROM students
WHERE LOWER(country) = LOWER(language)
"""
pd.read_sql_query(query, conn)
```

---

🎉 That’s everything! You now have:
- `students.csv`
- `insert_students.sql`
- `student_queries.md`
- `student_analysis.ipynb`

You can zip these files together and start exploring your student dataset like a pro. Let me know if you want help packaging or running the notebook!
