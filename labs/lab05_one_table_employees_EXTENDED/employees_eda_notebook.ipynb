{
 "cells": [
  {
   "cell_type": "markdown",
   "id": "e83ae560",
   "metadata": {},
   "source": [
    "# Employees EDA: MySQL → Pandas → Visualizations"
   ]
  },
  {
   "cell_type": "markdown",
   "id": "0032b410",
   "metadata": {},
   "source": [
    "## Prerequisites\n",
    "Install packages if needed:\n",
    "```bash\n",
    "pip install pandas mysql-connector-python matplotlib\n",
    "```\n"
   ]
  },
  {
   "cell_type": "code",
   "execution_count": null,
   "id": "8495a4cf",
   "metadata": {},
   "outputs": [],
   "source": [
    "# ---- Configuration ----\n",
    "HOST = \"127.0.0.1\"\n",
    "USER = \"root\"\n",
    "PASSWORD = \"yourpassword\"\n",
    "DATABASE = \"your_database\"\n",
    "TABLE_NAME = \"employees\"  # change if needed\n"
   ]
  },
  {
   "cell_type": "code",
   "execution_count": null,
   "id": "b5635515",
   "metadata": {},
   "outputs": [],
   "source": [
    "# ---- Imports & Connection ----\n",
    "import pandas as pd\n",
    "import mysql.connector\n",
    "import matplotlib.pyplot as plt\n",
    "\n",
    "%matplotlib inline\n",
    "\n",
    "conn = mysql.connector.connect(\n",
    "    host=HOST,\n",
    "    user=USER,\n",
    "    password=PASSWORD,\n",
    "    database=DATABASE\n",
    ")\n",
    "print(\"✅ Connected to MySQL!\")"
   ]
  },
  {
   "cell_type": "code",
   "execution_count": null,
   "id": "23899772",
   "metadata": {},
   "outputs": [],
   "source": [
    "# ---- Load employees table ----\n",
    "query = f\"SELECT * FROM {TABLE_NAME};\"\n",
    "df = pd.read_sql(query, conn)\n",
    "print(f\"Loaded {len(df)} rows from '{TABLE_NAME}'.\")\n",
    "df.head()"
   ]
  },
  {
   "cell_type": "code",
   "execution_count": null,
   "id": "209fb3da",
   "metadata": {},
   "outputs": [],
   "source": [
    "# ---- Info & Missing Values ----\n",
    "print(\"DataFrame info:\")\n",
    "print(df.info())\n",
    "print(\"\\nMissing values per column:\")\n",
    "print(df.isna().sum())\n",
    "\n",
    "# Numeric summary\n",
    "df.describe(include='number')"
   ]
  },
  {
   "cell_type": "code",
   "execution_count": null,
   "id": "0dfc25d7",
   "metadata": {},
   "outputs": [],
   "source": [
    "# ---- Categorical overview ----\n",
    "categorical_cols = [\"degree\", \"gender\", \"country\", \"department\"]\n",
    "summary = {col: df[col].astype('category').value_counts(dropna=False) for col in categorical_cols if col in df.columns}\n",
    "for col, counts in summary.items():\n",
    "    print(f\"\\nUnique values for {col}:\")\n",
    "    print(counts)"
   ]
  },
  {
   "cell_type": "code",
   "execution_count": null,
   "id": "d1d003f9",
   "metadata": {},
   "outputs": [],
   "source": [
    "# ---- Chart: Age histogram ----\n",
    "plt.figure(figsize=(8,5))\n",
    "df['age'].dropna().plot(kind='hist', bins=20)\n",
    "plt.title(\"Age Distribution of Employees\")\n",
    "plt.xlabel(\"Age\")\n",
    "plt.ylabel(\"Frequency\")\n",
    "plt.show()"
   ]
  },
  {
   "cell_type": "code",
   "execution_count": null,
   "id": "9cf4b35e",
   "metadata": {},
   "outputs": [],
   "source": [
    "# ---- Chart: Salary histogram ----\n",
    "plt.figure(figsize=(8,5))\n",
    "df['salary'].dropna().plot(kind='hist', bins=20)\n",
    "plt.title(\"Salary Distribution of Employees\")\n",
    "plt.xlabel(\"Salary\")\n",
    "plt.ylabel(\"Frequency\")\n",
    "plt.show()"
   ]
  },
  {
   "cell_type": "code",
   "execution_count": null,
   "id": "e849fbcb",
   "metadata": {},
   "outputs": [],
   "source": [
    "# ---- Chart: Gender bar ----\n",
    "plt.figure(figsize=(6,4))\n",
    "gender_counts = df['gender'].value_counts(dropna=False)\n",
    "gender_counts.plot(kind='bar')\n",
    "plt.title(\"Gender Distribution\")\n",
    "plt.xlabel(\"Gender\")\n",
    "plt.ylabel(\"Count\")\n",
    "plt.show()"
   ]
  },
  {
   "cell_type": "code",
   "execution_count": null,
   "id": "3984e4fa",
   "metadata": {},
   "outputs": [],
   "source": [
    "# ---- Group By: Avg Salary by Degree ----\n",
    "avg_salary_degree = df.groupby('degree', dropna=False)['salary'].mean().sort_values(ascending=False)\n",
    "display(avg_salary_degree)\n",
    "\n",
    "plt.figure(figsize=(9,5))\n",
    "avg_salary_degree.plot(kind='bar')\n",
    "plt.title(\"Average Salary by Degree\")\n",
    "plt.xlabel(\"Degree\")\n",
    "plt.ylabel(\"Average Salary\")\n",
    "plt.tight_layout()\n",
    "plt.show()"
   ]
  },
  {
   "cell_type": "code",
   "execution_count": null,
   "id": "9683577e",
   "metadata": {},
   "outputs": [],
   "source": [
    "# ---- Group By: Avg Salary by Country ----\n",
    "avg_salary_country = df.groupby('country', dropna=False)['salary'].mean().sort_values(ascending=False)\n",
    "display(avg_salary_country)\n",
    "\n",
    "plt.figure(figsize=(10,5))\n",
    "avg_salary_country.plot(kind='bar')\n",
    "plt.title(\"Average Salary by Country\")\n",
    "plt.xlabel(\"Country\")\n",
    "plt.ylabel(\"Average Salary\")\n",
    "plt.tight_layout()\n",
    "plt.show()"
   ]
  },
  {
   "cell_type": "code",
   "execution_count": null,
   "id": "276858ca",
   "metadata": {},
   "outputs": [],
   "source": [
    "# ---- Group By: Employees per Department ----\n",
    "dept_counts = df['department'].value_counts(dropna=False).sort_values(ascending=False)\n",
    "display(dept_counts)\n",
    "\n",
    "plt.figure(figsize=(10,5))\n",
    "dept_counts.plot(kind='bar')\n",
    "plt.title(\"Employees per Department\")\n",
    "plt.xlabel(\"Department\")\n",
    "plt.ylabel(\"Count\")\n",
    "plt.tight_layout()\n",
    "plt.show()"
   ]
  },
  {
   "cell_type": "code",
   "execution_count": null,
   "id": "0cccafe9",
   "metadata": {},
   "outputs": [],
   "source": [
    "# ---- Boxplot: Age per Department ----\n",
    "groups = []\n",
    "labels = []\n",
    "for dept, g in df.groupby('department'):\n",
    "    if g['age'].notna().sum() > 0:\n",
    "        groups.append(g['age'].dropna().values)\n",
    "        labels.append(str(dept))\n",
    "\n",
    "plt.figure(figsize=(12,6))\n",
    "plt.boxplot(groups, labels=labels, showmeans=True)\n",
    "plt.title(\"Age Distribution per Department\")\n",
    "plt.xlabel(\"Department\")\n",
    "plt.ylabel(\"Age\")\n",
    "plt.xticks(rotation=45)\n",
    "plt.tight_layout()\n",
    "plt.show()"
   ]
  },
  {
   "cell_type": "code",
   "execution_count": null,
   "id": "a191445a",
   "metadata": {},
   "outputs": [],
   "source": [
    "# ---- Optional: Save charts to PNG files ----\n",
    "import os\n",
    "out_dir = \"eda_charts\"\n",
    "os.makedirs(out_dir, exist_ok=True)\n",
    "\n",
    "# Age histogram\n",
    "plt.figure(figsize=(8,5))\n",
    "df['age'].dropna().plot(kind='hist', bins=20)\n",
    "plt.title(\"Age Distribution of Employees\")\n",
    "plt.xlabel(\"Age\")\n",
    "plt.ylabel(\"Frequency\")\n",
    "plt.savefig(os.path.join(out_dir, \"age_hist.png\"))\n",
    "plt.close()\n",
    "\n",
    "# Salary histogram\n",
    "plt.figure(figsize=(8,5))\n",
    "df['salary'].dropna().plot(kind='hist', bins=20)\n",
    "plt.title(\"Salary Distribution of Employees\")\n",
    "plt.xlabel(\"Salary\")\n",
    "plt.ylabel(\"Frequency\")\n",
    "plt.savefig(os.path.join(out_dir, \"salary_hist.png\"))\n",
    "plt.close()\n",
    "\n",
    "# Gender distribution\n",
    "plt.figure(figsize=(6,4))\n",
    "gender_counts = df['gender'].value_counts(dropna=False)\n",
    "gender_counts.plot(kind='bar')\n",
    "plt.title(\"Gender Distribution\")\n",
    "plt.xlabel(\"Gender\")\n",
    "plt.ylabel(\"Count\")\n",
    "plt.savefig(os.path.join(out_dir, \"gender_bar.png\"))\n",
    "plt.close()\n",
    "\n",
    "# Average salary by degree\n",
    "plt.figure(figsize=(9,5))\n",
    "avg_salary_degree.plot(kind='bar')\n",
    "plt.title(\"Average Salary by Degree\")\n",
    "plt.xlabel(\"Degree\")\n",
    "plt.ylabel(\"Average Salary\")\n",
    "plt.tight_layout()\n",
    "plt.savefig(os.path.join(out_dir, \"avg_salary_by_degree.png\"))\n",
    "plt.close()\n",
    "\n",
    "# Average salary by country\n",
    "plt.figure(figsize=(10,5))\n",
    "avg_salary_country.plot(kind='bar')\n",
    "plt.title(\"Average Salary by Country\")\n",
    "plt.xlabel(\"Country\")\n",
    "plt.ylabel(\"Average Salary\")\n",
    "plt.tight_layout()\n",
    "plt.savefig(os.path.join(out_dir, \"avg_salary_by_country.png\"))\n",
    "plt.close()\n",
    "\n",
    "# Employees per department\n",
    "plt.figure(figsize=(10,5))\n",
    "dept_counts.plot(kind='bar')\n",
    "plt.title(\"Employees per Department\")\n",
    "plt.xlabel(\"Department\")\n",
    "plt.ylabel(\"Count\")\n",
    "plt.tight_layout()\n",
    "plt.savefig(os.path.join(out_dir, \"employees_per_department.png\"))\n",
    "plt.close()\n",
    "\n",
    "# Age boxplot per department\n",
    "plt.figure(figsize=(12,6))\n",
    "plt.boxplot(groups, labels=labels, showmeans=True)\n",
    "plt.title(\"Age Distribution per Department\")\n",
    "plt.xlabel(\"Department\")\n",
    "plt.ylabel(\"Age\")\n",
    "plt.xticks(rotation=45)\n",
    "plt.tight_layout()\n",
    "plt.savefig(os.path.join(out_dir, \"age_boxplot_by_department.png\"))\n",
    "plt.close()\n",
    "\n",
    "print(f\"Saved charts to: {os.path.abspath(out_dir)}\")"
   ]
  },
  {
   "cell_type": "code",
   "execution_count": null,
   "id": "9aeb5352",
   "metadata": {},
   "outputs": [],
   "source": [
    "# ---- Cleanup ----\n",
    "try:\n",
    "    conn.close()\n",
    "    print(\"🔌 MySQL connection closed.\")\n",
    "except Exception as e:\n",
    "    print(\"Connection close error:\", e)"
   ]
  }
 ],
 "metadata": {},
 "nbformat": 4,
 "nbformat_minor": 5
}
