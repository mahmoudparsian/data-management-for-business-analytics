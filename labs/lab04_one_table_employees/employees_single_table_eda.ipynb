{
 "cells": [
  {
   "cell_type": "markdown",
   "id": "ac25fae3",
   "metadata": {},
   "source": [
    "# Employees Table EDA"
   ]
  },
  {
   "cell_type": "code",
   "execution_count": null,
   "id": "77bf26e0",
   "metadata": {},
   "outputs": [],
   "source": [
    "\n",
    "import mysql.connector\n",
    "import pandas as pd\n",
    "import matplotlib.pyplot as plt\n",
    "import seaborn as sns\n",
    "\n",
    "conn = mysql.connector.connect(\n",
    "    host=\"localhost\",\n",
    "    user=\"root\",\n",
    "    password=\"your_password\",\n",
    "    database=\"your_db\"\n",
    ")\n",
    "\n",
    "employees_df = pd.read_sql(\"SELECT * FROM employees\", conn)\n",
    "employees_df.head()\n"
   ]
  },
  {
   "cell_type": "markdown",
   "id": "59aee8fb",
   "metadata": {},
   "source": [
    "## Summary Statistics"
   ]
  },
  {
   "cell_type": "code",
   "execution_count": null,
   "id": "3041e0eb",
   "metadata": {},
   "outputs": [],
   "source": [
    "employees_df.describe()"
   ]
  },
  {
   "cell_type": "markdown",
   "id": "92903626",
   "metadata": {},
   "source": [
    "## Number of Employees per Department"
   ]
  },
  {
   "cell_type": "code",
   "execution_count": null,
   "id": "49489fe4",
   "metadata": {},
   "outputs": [],
   "source": [
    "\n",
    "sns.countplot(data=employees_df, x=\"department\", order=employees_df[\"department\"].value_counts().index)\n",
    "plt.title(\"Number of Employees per Department\")\n",
    "plt.show()\n"
   ]
  },
  {
   "cell_type": "markdown",
   "id": "b1cfed62",
   "metadata": {},
   "source": [
    "## Average Salary per Department"
   ]
  },
  {
   "cell_type": "code",
   "execution_count": null,
   "id": "7d2d2d15",
   "metadata": {},
   "outputs": [],
   "source": [
    "\n",
    "avg_salary = employees_df.groupby(\"department\")[\"salary\"].mean().reset_index()\n",
    "sns.barplot(data=avg_salary, x=\"department\", y=\"salary\")\n",
    "plt.title(\"Average Salary per Department\")\n",
    "plt.show()\n"
   ]
  },
  {
   "cell_type": "markdown",
   "id": "71950626",
   "metadata": {},
   "source": [
    "## Salary Distribution"
   ]
  },
  {
   "cell_type": "code",
   "execution_count": null,
   "id": "ea908db9",
   "metadata": {},
   "outputs": [],
   "source": [
    "\n",
    "sns.histplot(employees_df[\"salary\"], bins=10, kde=True)\n",
    "plt.title(\"Salary Distribution\")\n",
    "plt.show()\n"
   ]
  },
  {
   "cell_type": "markdown",
   "id": "527896d3",
   "metadata": {},
   "source": [
    "## Age Distribution per Department"
   ]
  },
  {
   "cell_type": "code",
   "execution_count": null,
   "id": "13f9210f",
   "metadata": {},
   "outputs": [],
   "source": [
    "\n",
    "sns.boxplot(data=employees_df, x=\"department\", y=\"age\")\n",
    "plt.title(\"Age Distribution per Department\")\n",
    "plt.show()\n"
   ]
  }
 ],
 "metadata": {},
 "nbformat": 4,
 "nbformat_minor": 5
}
